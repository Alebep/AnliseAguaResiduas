{
  "nbformat": 4,
  "nbformat_minor": 0,
  "metadata": {
    "colab": {
      "provenance": [],
      "toc_visible": true
    },
    "kernelspec": {
      "name": "python3",
      "display_name": "Python 3"
    },
    "language_info": {
      "name": "python"
    }
  },
  "cells": [
    {
      "cell_type": "markdown",
      "source": [
        "# Importação\n",
        "No presente trabalho vamos analisar, preparar e estruturar as features e target variables para o treino de modelos de mineração de dados, utilizando tecnicas para seleção de Hiper parâmetros, e procedimentos para treino e validação de\n",
        "modelos preditivos de Machine Learning.\n",
        "\n",
        "Os modelos preditivos de Machine Learning utilizam dados e algoritmos estatísticos para identificar a probabilidade de acontecimentos futuros a partir de dados históricos. A utilização destes\n",
        "modelos permite resolver problemas difíceis e descobrir novas oportunidades, sendo cada vez mais utilizados em diversas áreas como a deteção de fraudes, a otimização de campanhas de marketing,\n",
        "melhoria de operações e redução de riscos.\n",
        "\n",
        "Nesta etapa vamos fazer a importação de todas as bibliotecas que serão usadas no nosso estudo. Posteriormente faremos o carregamento do nosso dataset. O nosso dataset é constituído originalmente por 12 features, a maior parte delas numéricas, representam métricas sobre o consumo de água e recolha de resíduos por designação administrativa.\n"
      ],
      "metadata": {
        "id": "iVHO3dKByOGa"
      }
    },
    {
      "cell_type": "code",
      "source": [
        "import numpy as np\n",
        "from sklearn.model_selection import train_test_split\n",
        "from sklearn.neural_network import MLPClassifier\n",
        "from sklearn.preprocessing import OneHotEncoder\n",
        "from sklearn.metrics import r2_score\n",
        "from sklearn import tree\n",
        "from sklearn.preprocessing import LabelEncoder\n",
        "from imblearn.over_sampling import SMOTE\n",
        "from sklearn.ensemble import RandomForestClassifier\n",
        "from sklearn.ensemble import GradientBoostingClassifier \n",
        "from sklearn.ensemble import AdaBoostClassifier\n",
        "from sklearn.metrics import accuracy_score, confusion_matrix, classification_report\n",
        "from yellowbrick.classifier import ConfusionMatrix\n",
        "from sklearn.tree import DecisionTreeClassifier\n",
        "from sklearn.model_selection import GridSearchCV\n",
        "from sklearn.pipeline import Pipeline, FeatureUnion\n",
        "from sklearn.preprocessing import MinMaxScaler\n",
        "from sklearn.svm import SVC\n",
        "from sklearn.naive_bayes import GaussianNB\n",
        "from sklearn.model_selection import cross_val_score, KFold\n",
        "from sklearn.preprocessing import StandardScaler\n",
        "import pandas as pd\n",
        "import pickle\n",
        "import xml.etree.ElementTree as ET\n",
        "import seaborn as sns\n",
        "import matplotlib\n",
        "import matplotlib.pyplot as plt\n",
        "import plotly.express as px"
      ],
      "metadata": {
        "id": "s3032ANEJVWt"
      },
      "execution_count": null,
      "outputs": []
    },
    {
      "cell_type": "markdown",
      "source": [
        "Para Importação do dados usamos o Pandas, como os nossos dados estão em formato .xlsx usamos o metdoso read_execl para carregarmos o nosso dataframe."
      ],
      "metadata": {
        "id": "vpUezKU7LtVn"
      }
    },
    {
      "cell_type": "code",
      "source": [
        "data = pd.read_excel('https://dados.gov.pt/s/dadosGovFiles/Dadosdaqualidadedosservicosdeaguaseresiduo.xlsx')"
      ],
      "metadata": {
        "id": "WRBBjTvMgaVh"
      },
      "execution_count": null,
      "outputs": []
    },
    {
      "cell_type": "markdown",
      "source": [
        "# Análise exploratória\n",
        "\n",
        "Nesta etapa faremos a visualização dos dados, e algumas modificações no nosso dataset. Começamos por visualizar o formato dos dados, e converter as features que estavam armazenadas em um formato inadequado. "
      ],
      "metadata": {
        "id": "v5MdoXauyV2C"
      }
    },
    {
      "cell_type": "code",
      "source": [
        "data"
      ],
      "metadata": {
        "colab": {
          "base_uri": "https://localhost:8080/",
          "height": 939
        },
        "id": "QIJiXgyVc1wI",
        "outputId": "e07fa682-8f70-478b-be81-48069ba0dcf9"
      },
      "execution_count": null,
      "outputs": [
        {
          "output_type": "execute_result",
          "data": {
            "text/plain": [
              "     Ano de referência                           Unidade administrativa  \\\n",
              "0                 2011                                         Concelho   \n",
              "1                 2011                                         Concelho   \n",
              "2                 2011                                         Concelho   \n",
              "3                 2011                                         Concelho   \n",
              "4                 2011                                         Concelho   \n",
              "..                 ...                                              ...   \n",
              "597               2012  Comunidade intermunicipal ou área metropolitana   \n",
              "598               2012  Comunidade intermunicipal ou área metropolitana   \n",
              "599               2012  Comunidade intermunicipal ou área metropolitana   \n",
              "600               2012  Comunidade intermunicipal ou área metropolitana   \n",
              "601               2012  Comunidade intermunicipal ou área metropolitana   \n",
              "\n",
              "                  Designação da unidade administrativa  \\\n",
              "0                                             ABRANTES   \n",
              "1                                               ÁGUEDA   \n",
              "2                                      AGUIAR DA BEIRA   \n",
              "3                                            ALANDROAL   \n",
              "4                                   ALBERGARIA-A-VELHA   \n",
              "..                                                 ...   \n",
              "597  Comunidade Intermunicipal do Baixo Tâmega e So...   \n",
              "598                Comunidade Intermunicipal do Cávado   \n",
              "599                Comunidade Intermunicipal do Douro    \n",
              "600           Comunidade Intermunicipal do Médio Tejo    \n",
              "601                Comunidade Intermunicipal do Oeste    \n",
              "\n",
              "    Consumo de água autorizado na rede pública (m3)  \\\n",
              "0                                           2371633   \n",
              "1                                                ND   \n",
              "2                                                NR   \n",
              "3                                            337491   \n",
              "4                                                ND   \n",
              "..                                              ...   \n",
              "597                                     10122722.84   \n",
              "598                                        16317196   \n",
              "599                                     9587359.009   \n",
              "600                                              ND   \n",
              "601                                        21799569   \n",
              "\n",
              "    Consumo de água autorizado na rede pública (m3/habitante servido)  \\\n",
              "0                                            69.397163                  \n",
              "1                                                   ND                  \n",
              "2                                                   ND                  \n",
              "3                                            69.194894                  \n",
              "4                                                   ND                  \n",
              "..                                                 ...                  \n",
              "597                                          47.260377                  \n",
              "598                                          54.490249                  \n",
              "599                                                 ND                  \n",
              "600                                                 ND                  \n",
              "601                                          73.827868                  \n",
              "\n",
              "    Acessibilidade física do serviço de abastecimento de água (%)  \\\n",
              "0                                                   92              \n",
              "1                                                  100              \n",
              "2                                                   NR              \n",
              "3                                                   93              \n",
              "4                                                  100              \n",
              "..                                                 ...              \n",
              "597                                                 ND              \n",
              "598                                          91.971773              \n",
              "599                                                 ND              \n",
              "600                                          95.261698              \n",
              "601                                                 ND              \n",
              "\n",
              "    Destino adequado das águas residuais urbanas (%)  \\\n",
              "0                                                100   \n",
              "1                                                100   \n",
              "2                                                 NR   \n",
              "3                                                 65   \n",
              "4                                                100   \n",
              "..                                               ...   \n",
              "597                                               ND   \n",
              "598                                        99.577811   \n",
              "599                                               ND   \n",
              "600                                               ND   \n",
              "601                                               ND   \n",
              "\n",
              "    Resíduos urbanos recolhidos (ton)  \\\n",
              "0                               16461   \n",
              "1                               17623   \n",
              "2                                2154   \n",
              "3                                2256   \n",
              "4                                8947   \n",
              "..                                ...   \n",
              "597                        148809.339   \n",
              "598                        157188.847   \n",
              "599                      76792.404785   \n",
              "600                        89312.1999   \n",
              "601                            162068   \n",
              "\n",
              "    Resíduos urbanos recolhidos (ton/habitante)  \\\n",
              "0                                      0.418589   \n",
              "1                                       0.36923   \n",
              "2                                      0.393568   \n",
              "3                                      0.386103   \n",
              "4                                      0.354309   \n",
              "..                                          ...   \n",
              "597                                    0.343738   \n",
              "598                                    0.383229   \n",
              "599                                     0.37431   \n",
              "600                                    0.361104   \n",
              "601                                    0.447035   \n",
              "\n",
              "     Resíduos de embalagens recolhidos seletivamente (ton)  \\\n",
              "0                                          1722.000000       \n",
              "1                                          1425.000000       \n",
              "2                                           106.000000       \n",
              "3                                           121.800000       \n",
              "4                                           668.300000       \n",
              "..                                                 ...       \n",
              "597                                        9095.891000       \n",
              "598                                       17489.390000       \n",
              "599                                        3727.578216       \n",
              "600                                        8018.824000       \n",
              "601                                       12692.000000       \n",
              "\n",
              "     Resíduos de embalagens recolhidos seletivamente (ton/habitante)  \\\n",
              "0                                             0.043789                 \n",
              "1                                             0.029856                 \n",
              "2                                             0.019368                 \n",
              "3                                             0.020845                 \n",
              "4                                             0.026465                 \n",
              "..                                                 ...                 \n",
              "597                                           0.021011                 \n",
              "598                                           0.042639                 \n",
              "599                                           0.018169                 \n",
              "600                                           0.032421                 \n",
              "601                                           0.035009                 \n",
              "\n",
              "    Encargos médios por família com os serviços de águas e resíduos (€/ano)  \n",
              "0                                              266.472                       \n",
              "1                                                227.4                       \n",
              "2                                                  240                       \n",
              "3                                               163.92                       \n",
              "4                                             314.1936                       \n",
              "..                                                 ...                       \n",
              "597                                         216.633164                       \n",
              "598                                             205.22                       \n",
              "599                                                 ND                       \n",
              "600                                         231.737538                       \n",
              "601                                           279.4363                       \n",
              "\n",
              "[602 rows x 12 columns]"
            ],
            "text/html": [
              "\n",
              "  <div id=\"df-f4d62180-7314-4163-9ea1-11b3f134196b\">\n",
              "    <div class=\"colab-df-container\">\n",
              "      <div>\n",
              "<style scoped>\n",
              "    .dataframe tbody tr th:only-of-type {\n",
              "        vertical-align: middle;\n",
              "    }\n",
              "\n",
              "    .dataframe tbody tr th {\n",
              "        vertical-align: top;\n",
              "    }\n",
              "\n",
              "    .dataframe thead th {\n",
              "        text-align: right;\n",
              "    }\n",
              "</style>\n",
              "<table border=\"1\" class=\"dataframe\">\n",
              "  <thead>\n",
              "    <tr style=\"text-align: right;\">\n",
              "      <th></th>\n",
              "      <th>Ano de referência</th>\n",
              "      <th>Unidade administrativa</th>\n",
              "      <th>Designação da unidade administrativa</th>\n",
              "      <th>Consumo de água autorizado na rede pública (m3)</th>\n",
              "      <th>Consumo de água autorizado na rede pública (m3/habitante servido)</th>\n",
              "      <th>Acessibilidade física do serviço de abastecimento de água (%)</th>\n",
              "      <th>Destino adequado das águas residuais urbanas (%)</th>\n",
              "      <th>Resíduos urbanos recolhidos (ton)</th>\n",
              "      <th>Resíduos urbanos recolhidos (ton/habitante)</th>\n",
              "      <th>Resíduos de embalagens recolhidos seletivamente (ton)</th>\n",
              "      <th>Resíduos de embalagens recolhidos seletivamente (ton/habitante)</th>\n",
              "      <th>Encargos médios por família com os serviços de águas e resíduos (€/ano)</th>\n",
              "    </tr>\n",
              "  </thead>\n",
              "  <tbody>\n",
              "    <tr>\n",
              "      <th>0</th>\n",
              "      <td>2011</td>\n",
              "      <td>Concelho</td>\n",
              "      <td>ABRANTES</td>\n",
              "      <td>2371633</td>\n",
              "      <td>69.397163</td>\n",
              "      <td>92</td>\n",
              "      <td>100</td>\n",
              "      <td>16461</td>\n",
              "      <td>0.418589</td>\n",
              "      <td>1722.000000</td>\n",
              "      <td>0.043789</td>\n",
              "      <td>266.472</td>\n",
              "    </tr>\n",
              "    <tr>\n",
              "      <th>1</th>\n",
              "      <td>2011</td>\n",
              "      <td>Concelho</td>\n",
              "      <td>ÁGUEDA</td>\n",
              "      <td>ND</td>\n",
              "      <td>ND</td>\n",
              "      <td>100</td>\n",
              "      <td>100</td>\n",
              "      <td>17623</td>\n",
              "      <td>0.36923</td>\n",
              "      <td>1425.000000</td>\n",
              "      <td>0.029856</td>\n",
              "      <td>227.4</td>\n",
              "    </tr>\n",
              "    <tr>\n",
              "      <th>2</th>\n",
              "      <td>2011</td>\n",
              "      <td>Concelho</td>\n",
              "      <td>AGUIAR DA BEIRA</td>\n",
              "      <td>NR</td>\n",
              "      <td>ND</td>\n",
              "      <td>NR</td>\n",
              "      <td>NR</td>\n",
              "      <td>2154</td>\n",
              "      <td>0.393568</td>\n",
              "      <td>106.000000</td>\n",
              "      <td>0.019368</td>\n",
              "      <td>240</td>\n",
              "    </tr>\n",
              "    <tr>\n",
              "      <th>3</th>\n",
              "      <td>2011</td>\n",
              "      <td>Concelho</td>\n",
              "      <td>ALANDROAL</td>\n",
              "      <td>337491</td>\n",
              "      <td>69.194894</td>\n",
              "      <td>93</td>\n",
              "      <td>65</td>\n",
              "      <td>2256</td>\n",
              "      <td>0.386103</td>\n",
              "      <td>121.800000</td>\n",
              "      <td>0.020845</td>\n",
              "      <td>163.92</td>\n",
              "    </tr>\n",
              "    <tr>\n",
              "      <th>4</th>\n",
              "      <td>2011</td>\n",
              "      <td>Concelho</td>\n",
              "      <td>ALBERGARIA-A-VELHA</td>\n",
              "      <td>ND</td>\n",
              "      <td>ND</td>\n",
              "      <td>100</td>\n",
              "      <td>100</td>\n",
              "      <td>8947</td>\n",
              "      <td>0.354309</td>\n",
              "      <td>668.300000</td>\n",
              "      <td>0.026465</td>\n",
              "      <td>314.1936</td>\n",
              "    </tr>\n",
              "    <tr>\n",
              "      <th>...</th>\n",
              "      <td>...</td>\n",
              "      <td>...</td>\n",
              "      <td>...</td>\n",
              "      <td>...</td>\n",
              "      <td>...</td>\n",
              "      <td>...</td>\n",
              "      <td>...</td>\n",
              "      <td>...</td>\n",
              "      <td>...</td>\n",
              "      <td>...</td>\n",
              "      <td>...</td>\n",
              "      <td>...</td>\n",
              "    </tr>\n",
              "    <tr>\n",
              "      <th>597</th>\n",
              "      <td>2012</td>\n",
              "      <td>Comunidade intermunicipal ou área metropolitana</td>\n",
              "      <td>Comunidade Intermunicipal do Baixo Tâmega e So...</td>\n",
              "      <td>10122722.84</td>\n",
              "      <td>47.260377</td>\n",
              "      <td>ND</td>\n",
              "      <td>ND</td>\n",
              "      <td>148809.339</td>\n",
              "      <td>0.343738</td>\n",
              "      <td>9095.891000</td>\n",
              "      <td>0.021011</td>\n",
              "      <td>216.633164</td>\n",
              "    </tr>\n",
              "    <tr>\n",
              "      <th>598</th>\n",
              "      <td>2012</td>\n",
              "      <td>Comunidade intermunicipal ou área metropolitana</td>\n",
              "      <td>Comunidade Intermunicipal do Cávado</td>\n",
              "      <td>16317196</td>\n",
              "      <td>54.490249</td>\n",
              "      <td>91.971773</td>\n",
              "      <td>99.577811</td>\n",
              "      <td>157188.847</td>\n",
              "      <td>0.383229</td>\n",
              "      <td>17489.390000</td>\n",
              "      <td>0.042639</td>\n",
              "      <td>205.22</td>\n",
              "    </tr>\n",
              "    <tr>\n",
              "      <th>599</th>\n",
              "      <td>2012</td>\n",
              "      <td>Comunidade intermunicipal ou área metropolitana</td>\n",
              "      <td>Comunidade Intermunicipal do Douro</td>\n",
              "      <td>9587359.009</td>\n",
              "      <td>ND</td>\n",
              "      <td>ND</td>\n",
              "      <td>ND</td>\n",
              "      <td>76792.404785</td>\n",
              "      <td>0.37431</td>\n",
              "      <td>3727.578216</td>\n",
              "      <td>0.018169</td>\n",
              "      <td>ND</td>\n",
              "    </tr>\n",
              "    <tr>\n",
              "      <th>600</th>\n",
              "      <td>2012</td>\n",
              "      <td>Comunidade intermunicipal ou área metropolitana</td>\n",
              "      <td>Comunidade Intermunicipal do Médio Tejo</td>\n",
              "      <td>ND</td>\n",
              "      <td>ND</td>\n",
              "      <td>95.261698</td>\n",
              "      <td>ND</td>\n",
              "      <td>89312.1999</td>\n",
              "      <td>0.361104</td>\n",
              "      <td>8018.824000</td>\n",
              "      <td>0.032421</td>\n",
              "      <td>231.737538</td>\n",
              "    </tr>\n",
              "    <tr>\n",
              "      <th>601</th>\n",
              "      <td>2012</td>\n",
              "      <td>Comunidade intermunicipal ou área metropolitana</td>\n",
              "      <td>Comunidade Intermunicipal do Oeste</td>\n",
              "      <td>21799569</td>\n",
              "      <td>73.827868</td>\n",
              "      <td>ND</td>\n",
              "      <td>ND</td>\n",
              "      <td>162068</td>\n",
              "      <td>0.447035</td>\n",
              "      <td>12692.000000</td>\n",
              "      <td>0.035009</td>\n",
              "      <td>279.4363</td>\n",
              "    </tr>\n",
              "  </tbody>\n",
              "</table>\n",
              "<p>602 rows × 12 columns</p>\n",
              "</div>\n",
              "      <button class=\"colab-df-convert\" onclick=\"convertToInteractive('df-f4d62180-7314-4163-9ea1-11b3f134196b')\"\n",
              "              title=\"Convert this dataframe to an interactive table.\"\n",
              "              style=\"display:none;\">\n",
              "        \n",
              "  <svg xmlns=\"http://www.w3.org/2000/svg\" height=\"24px\"viewBox=\"0 0 24 24\"\n",
              "       width=\"24px\">\n",
              "    <path d=\"M0 0h24v24H0V0z\" fill=\"none\"/>\n",
              "    <path d=\"M18.56 5.44l.94 2.06.94-2.06 2.06-.94-2.06-.94-.94-2.06-.94 2.06-2.06.94zm-11 1L8.5 8.5l.94-2.06 2.06-.94-2.06-.94L8.5 2.5l-.94 2.06-2.06.94zm10 10l.94 2.06.94-2.06 2.06-.94-2.06-.94-.94-2.06-.94 2.06-2.06.94z\"/><path d=\"M17.41 7.96l-1.37-1.37c-.4-.4-.92-.59-1.43-.59-.52 0-1.04.2-1.43.59L10.3 9.45l-7.72 7.72c-.78.78-.78 2.05 0 2.83L4 21.41c.39.39.9.59 1.41.59.51 0 1.02-.2 1.41-.59l7.78-7.78 2.81-2.81c.8-.78.8-2.07 0-2.86zM5.41 20L4 18.59l7.72-7.72 1.47 1.35L5.41 20z\"/>\n",
              "  </svg>\n",
              "      </button>\n",
              "      \n",
              "  <style>\n",
              "    .colab-df-container {\n",
              "      display:flex;\n",
              "      flex-wrap:wrap;\n",
              "      gap: 12px;\n",
              "    }\n",
              "\n",
              "    .colab-df-convert {\n",
              "      background-color: #E8F0FE;\n",
              "      border: none;\n",
              "      border-radius: 50%;\n",
              "      cursor: pointer;\n",
              "      display: none;\n",
              "      fill: #1967D2;\n",
              "      height: 32px;\n",
              "      padding: 0 0 0 0;\n",
              "      width: 32px;\n",
              "    }\n",
              "\n",
              "    .colab-df-convert:hover {\n",
              "      background-color: #E2EBFA;\n",
              "      box-shadow: 0px 1px 2px rgba(60, 64, 67, 0.3), 0px 1px 3px 1px rgba(60, 64, 67, 0.15);\n",
              "      fill: #174EA6;\n",
              "    }\n",
              "\n",
              "    [theme=dark] .colab-df-convert {\n",
              "      background-color: #3B4455;\n",
              "      fill: #D2E3FC;\n",
              "    }\n",
              "\n",
              "    [theme=dark] .colab-df-convert:hover {\n",
              "      background-color: #434B5C;\n",
              "      box-shadow: 0px 1px 3px 1px rgba(0, 0, 0, 0.15);\n",
              "      filter: drop-shadow(0px 1px 2px rgba(0, 0, 0, 0.3));\n",
              "      fill: #FFFFFF;\n",
              "    }\n",
              "  </style>\n",
              "\n",
              "      <script>\n",
              "        const buttonEl =\n",
              "          document.querySelector('#df-f4d62180-7314-4163-9ea1-11b3f134196b button.colab-df-convert');\n",
              "        buttonEl.style.display =\n",
              "          google.colab.kernel.accessAllowed ? 'block' : 'none';\n",
              "\n",
              "        async function convertToInteractive(key) {\n",
              "          const element = document.querySelector('#df-f4d62180-7314-4163-9ea1-11b3f134196b');\n",
              "          const dataTable =\n",
              "            await google.colab.kernel.invokeFunction('convertToInteractive',\n",
              "                                                     [key], {});\n",
              "          if (!dataTable) return;\n",
              "\n",
              "          const docLinkHtml = 'Like what you see? Visit the ' +\n",
              "            '<a target=\"_blank\" href=https://colab.research.google.com/notebooks/data_table.ipynb>data table notebook</a>'\n",
              "            + ' to learn more about interactive tables.';\n",
              "          element.innerHTML = '';\n",
              "          dataTable['output_type'] = 'display_data';\n",
              "          await google.colab.output.renderOutput(dataTable, element);\n",
              "          const docLink = document.createElement('div');\n",
              "          docLink.innerHTML = docLinkHtml;\n",
              "          element.appendChild(docLink);\n",
              "        }\n",
              "      </script>\n",
              "    </div>\n",
              "  </div>\n",
              "  "
            ]
          },
          "metadata": {},
          "execution_count": 135
        }
      ]
    },
    {
      "cell_type": "code",
      "source": [
        "\n",
        "data['Consumo de água autorizado na rede pública (m3)'] = pd.to_numeric(data['Consumo de água autorizado na rede pública (m3)'], errors = 'coerce')\n",
        "data['Consumo de água autorizado na rede pública (m3/habitante servido)'] = pd.to_numeric(data['Consumo de água autorizado na rede pública (m3/habitante servido)'], errors = 'coerce')\n",
        "data['Acessibilidade física do serviço de abastecimento de água (%)'] = pd.to_numeric(data['Acessibilidade física do serviço de abastecimento de água (%)'], errors = 'coerce')\n",
        "data['Destino adequado das águas residuais urbanas (%)'] = pd.to_numeric(data['Destino adequado das águas residuais urbanas (%)'], errors = 'coerce')\n",
        "data['Resíduos urbanos recolhidos (ton)'] = pd.to_numeric(data['Resíduos urbanos recolhidos (ton)'], errors = 'coerce')\n",
        "data['Resíduos urbanos recolhidos (ton/habitante)'] = pd.to_numeric(data['Resíduos urbanos recolhidos (ton/habitante)'], errors = 'coerce')\n",
        "data['Resíduos de embalagens recolhidos seletivamente (ton)'] = pd.to_numeric(data['Resíduos de embalagens recolhidos seletivamente (ton)'], errors = 'coerce')\n",
        "data['Resíduos de embalagens recolhidos seletivamente (ton/habitante)'] = pd.to_numeric(data['Resíduos de embalagens recolhidos seletivamente (ton/habitante)'], errors = 'coerce')\n",
        "data['Encargos médios por família com os serviços de águas e resíduos (€/ano)'] = pd.to_numeric(data['Encargos médios por família com os serviços de águas e resíduos (€/ano)'], errors = 'coerce')\n",
        "\n"
      ],
      "metadata": {
        "id": "dgWqBrtkte44"
      },
      "execution_count": null,
      "outputs": []
    },
    {
      "cell_type": "markdown",
      "source": [
        "No código descrito abaixo verificamos se todos os dados numéricos foram convertidos de object para float."
      ],
      "metadata": {
        "id": "NeCp_QBiPe-W"
      }
    },
    {
      "cell_type": "code",
      "source": [
        "data.info()"
      ],
      "metadata": {
        "colab": {
          "base_uri": "https://localhost:8080/"
        },
        "id": "bEaC7XGTADAC",
        "outputId": "da8a1842-e566-496e-f555-e8f71d0a2eae"
      },
      "execution_count": null,
      "outputs": [
        {
          "output_type": "stream",
          "name": "stdout",
          "text": [
            "<class 'pandas.core.frame.DataFrame'>\n",
            "RangeIndex: 602 entries, 0 to 601\n",
            "Data columns (total 12 columns):\n",
            " #   Column                                                                   Non-Null Count  Dtype  \n",
            "---  ------                                                                   --------------  -----  \n",
            " 0   Ano de referência                                                        602 non-null    int64  \n",
            " 1   Unidade administrativa                                                   602 non-null    object \n",
            " 2   Designação da unidade administrativa                                     602 non-null    object \n",
            " 3   Consumo de água autorizado na rede pública (m3)                          479 non-null    float64\n",
            " 4   Consumo de água autorizado na rede pública (m3/habitante servido)        473 non-null    float64\n",
            " 5   Acessibilidade física do serviço de abastecimento de água (%)            533 non-null    float64\n",
            " 6   Destino adequado das águas residuais urbanas (%)                         489 non-null    float64\n",
            " 7   Resíduos urbanos recolhidos (ton)                                        596 non-null    float64\n",
            " 8   Resíduos urbanos recolhidos (ton/habitante)                              596 non-null    float64\n",
            " 9   Resíduos de embalagens recolhidos seletivamente (ton)                    602 non-null    float64\n",
            " 10  Resíduos de embalagens recolhidos seletivamente (ton/habitante)          602 non-null    float64\n",
            " 11  Encargos médios por família com os serviços de águas e resíduos (€/ano)  547 non-null    float64\n",
            "dtypes: float64(9), int64(1), object(2)\n",
            "memory usage: 56.6+ KB\n"
          ]
        }
      ]
    },
    {
      "cell_type": "markdown",
      "source": [
        "Durante o processo de exploração do nosso dataset decidimos, verificar o numero de valores em falta, e abaixo segue-se a quantidade de valores em falta por feature.\n",
        "Tendo em vista que uma parcela dos algoritmos de machine learning, não admitem valores nulos, devemos sempre observar e definir estratégias para lidar com esse tipo de valor. \n",
        "\n"
      ],
      "metadata": {
        "id": "zecxbrwZP3nZ"
      }
    },
    {
      "cell_type": "code",
      "source": [
        "data.isnull().sum() "
      ],
      "metadata": {
        "colab": {
          "base_uri": "https://localhost:8080/"
        },
        "id": "iOQEssVH0BGr",
        "outputId": "c69abf0f-2959-4881-ca21-73bb7f32c10b"
      },
      "execution_count": null,
      "outputs": [
        {
          "output_type": "execute_result",
          "data": {
            "text/plain": [
              "Ano de referência                                                            0\n",
              "Unidade administrativa                                                       0\n",
              "Designação da unidade administrativa                                         0\n",
              "Consumo de água autorizado na rede pública (m3)                            123\n",
              "Consumo de água autorizado na rede pública (m3/habitante servido)          129\n",
              "Acessibilidade física do serviço de abastecimento de água (%)               69\n",
              "Destino adequado das águas residuais urbanas (%)                           113\n",
              "Resíduos urbanos recolhidos (ton)                                            6\n",
              "Resíduos urbanos recolhidos (ton/habitante)                                  6\n",
              "Resíduos de embalagens recolhidos seletivamente (ton)                        0\n",
              "Resíduos de embalagens recolhidos seletivamente (ton/habitante)              0\n",
              "Encargos médios por família com os serviços de águas e resíduos (€/ano)     55\n",
              "dtype: int64"
            ]
          },
          "metadata": {},
          "execution_count": 138
        }
      ]
    },
    {
      "cell_type": "markdown",
      "source": [
        "Decidimos em primeira instância eliminar algumas features que consideramos irrelevantes para nossa análise.\n",
        "\n",
        "Para evitar registos com muitos valores nulos, o que acaba por dificultar a analise, decidimos apagar todos os registos que têm mais de dois valores nulos. \n",
        "\n"
      ],
      "metadata": {
        "id": "V_6bYEoHT2vC"
      }
    },
    {
      "cell_type": "code",
      "source": [
        "data = data.drop(['Designação da unidade administrativa','Consumo de água autorizado na rede pública (m3)','Resíduos urbanos recolhidos (ton)','Resíduos de embalagens recolhidos seletivamente (ton)', 'Ano de referência'], axis = 1)\n",
        "data = data.dropna(axis = 0, thresh = len(data.columns) - 2)"
      ],
      "metadata": {
        "id": "Qk_F2mkN1UR2"
      },
      "execution_count": null,
      "outputs": []
    },
    {
      "cell_type": "markdown",
      "source": [
        "Apos a execução do código descrito acima, ficamos apenas com registos que tem no máximo dois valores nulos, mas como já foi citado em parágrafos acima os algoritmos de aprendizado de maquina não lidam bem com valores nulos, logo faz-se necessário a implementação de estratégias para resolver este tipo de problemas. \n",
        "\n",
        "Na secção pré-processamento têm a implementação e descrição da estratégia usada para tratar valores nulos.\n"
      ],
      "metadata": {
        "id": "bWYUDAXnp268"
      }
    },
    {
      "cell_type": "code",
      "source": [
        "data.isna().sum()"
      ],
      "metadata": {
        "id": "aQ6cHKpRPo9f",
        "colab": {
          "base_uri": "https://localhost:8080/"
        },
        "outputId": "94974020-6545-4b7a-f60c-ac628f07dfa9"
      },
      "execution_count": null,
      "outputs": [
        {
          "output_type": "execute_result",
          "data": {
            "text/plain": [
              "Unidade administrativa                                                      0\n",
              "Consumo de água autorizado na rede pública (m3/habitante servido)          88\n",
              "Acessibilidade física do serviço de abastecimento de água (%)              33\n",
              "Destino adequado das águas residuais urbanas (%)                           71\n",
              "Resíduos urbanos recolhidos (ton/habitante)                                 2\n",
              "Resíduos de embalagens recolhidos seletivamente (ton/habitante)             0\n",
              "Encargos médios por família com os serviços de águas e resíduos (€/ano)    35\n",
              "dtype: int64"
            ]
          },
          "metadata": {},
          "execution_count": 140
        }
      ]
    },
    {
      "cell_type": "code",
      "source": [
        "data.rename(columns = {'Encargos médios por família com os serviços de águas e resíduos (€/ano)':'Gastos por familia(€/ano)'},inplace=True)"
      ],
      "metadata": {
        "id": "oP16udmBwP4A"
      },
      "execution_count": null,
      "outputs": []
    },
    {
      "cell_type": "markdown",
      "source": [
        "O código abaixo mostra-nos as estatísticas dos valores numéricos do nosso dataset, podemos observar que a feature com maior desvio padrão é o Gastos por família(€/ano), observarvamos também que há uma diferença significativa entre o volume de resíduos recolhidos e recolhidos seletivamente. Esses indicadores nos ajudam a perceber melhor os nossos dados."
      ],
      "metadata": {
        "id": "xujuj32oMm80"
      }
    },
    {
      "cell_type": "code",
      "source": [
        "data.describe()"
      ],
      "metadata": {
        "colab": {
          "base_uri": "https://localhost:8080/",
          "height": 379
        },
        "id": "cLEfSVKjAOsT",
        "outputId": "cbcac6f2-39f0-4848-9edc-59b68e63cc82"
      },
      "execution_count": null,
      "outputs": [
        {
          "output_type": "execute_result",
          "data": {
            "text/plain": [
              "       Consumo de água autorizado na rede pública (m3/habitante servido)  \\\n",
              "count                                         471.000000                   \n",
              "mean                                           72.739401                   \n",
              "std                                            28.097838                   \n",
              "min                                            29.438239                   \n",
              "25%                                            57.227721                   \n",
              "50%                                            66.033223                   \n",
              "75%                                            79.652127                   \n",
              "max                                           231.958630                   \n",
              "\n",
              "       Acessibilidade física do serviço de abastecimento de água (%)  \\\n",
              "count                                         526.000000               \n",
              "mean                                           92.993578               \n",
              "std                                            10.184208               \n",
              "min                                            27.000000               \n",
              "25%                                            91.000000               \n",
              "50%                                            97.000000               \n",
              "75%                                           100.000000               \n",
              "max                                           100.354964               \n",
              "\n",
              "       Destino adequado das águas residuais urbanas (%)  \\\n",
              "count                                        488.000000   \n",
              "mean                                          96.772035   \n",
              "std                                           10.116080   \n",
              "min                                            3.000000   \n",
              "25%                                          100.000000   \n",
              "50%                                          100.000000   \n",
              "75%                                          100.000000   \n",
              "max                                          100.000000   \n",
              "\n",
              "       Resíduos urbanos recolhidos (ton/habitante)  \\\n",
              "count                                   557.000000   \n",
              "mean                                      0.437251   \n",
              "std                                       0.128706   \n",
              "min                                       0.227880   \n",
              "25%                                       0.355659   \n",
              "50%                                       0.409547   \n",
              "75%                                       0.495955   \n",
              "max                                       1.393529   \n",
              "\n",
              "       Resíduos de embalagens recolhidos seletivamente (ton/habitante)  \\\n",
              "count                                         559.000000                 \n",
              "mean                                            0.033973                 \n",
              "std                                             0.016047                 \n",
              "min                                             0.005208                 \n",
              "25%                                             0.023727                 \n",
              "50%                                             0.030477                 \n",
              "75%                                             0.040793                 \n",
              "max                                             0.153760                 \n",
              "\n",
              "       Gastos por familia(€/ano)  \n",
              "count                 524.000000  \n",
              "mean                  205.651373  \n",
              "std                    76.934404  \n",
              "min                    30.360000  \n",
              "25%                   150.019500  \n",
              "50%                   199.200000  \n",
              "75%                   259.937400  \n",
              "max                   408.120000  "
            ],
            "text/html": [
              "\n",
              "  <div id=\"df-36a0b259-3115-4e4d-8ebe-12d6dde94370\">\n",
              "    <div class=\"colab-df-container\">\n",
              "      <div>\n",
              "<style scoped>\n",
              "    .dataframe tbody tr th:only-of-type {\n",
              "        vertical-align: middle;\n",
              "    }\n",
              "\n",
              "    .dataframe tbody tr th {\n",
              "        vertical-align: top;\n",
              "    }\n",
              "\n",
              "    .dataframe thead th {\n",
              "        text-align: right;\n",
              "    }\n",
              "</style>\n",
              "<table border=\"1\" class=\"dataframe\">\n",
              "  <thead>\n",
              "    <tr style=\"text-align: right;\">\n",
              "      <th></th>\n",
              "      <th>Consumo de água autorizado na rede pública (m3/habitante servido)</th>\n",
              "      <th>Acessibilidade física do serviço de abastecimento de água (%)</th>\n",
              "      <th>Destino adequado das águas residuais urbanas (%)</th>\n",
              "      <th>Resíduos urbanos recolhidos (ton/habitante)</th>\n",
              "      <th>Resíduos de embalagens recolhidos seletivamente (ton/habitante)</th>\n",
              "      <th>Gastos por familia(€/ano)</th>\n",
              "    </tr>\n",
              "  </thead>\n",
              "  <tbody>\n",
              "    <tr>\n",
              "      <th>count</th>\n",
              "      <td>471.000000</td>\n",
              "      <td>526.000000</td>\n",
              "      <td>488.000000</td>\n",
              "      <td>557.000000</td>\n",
              "      <td>559.000000</td>\n",
              "      <td>524.000000</td>\n",
              "    </tr>\n",
              "    <tr>\n",
              "      <th>mean</th>\n",
              "      <td>72.739401</td>\n",
              "      <td>92.993578</td>\n",
              "      <td>96.772035</td>\n",
              "      <td>0.437251</td>\n",
              "      <td>0.033973</td>\n",
              "      <td>205.651373</td>\n",
              "    </tr>\n",
              "    <tr>\n",
              "      <th>std</th>\n",
              "      <td>28.097838</td>\n",
              "      <td>10.184208</td>\n",
              "      <td>10.116080</td>\n",
              "      <td>0.128706</td>\n",
              "      <td>0.016047</td>\n",
              "      <td>76.934404</td>\n",
              "    </tr>\n",
              "    <tr>\n",
              "      <th>min</th>\n",
              "      <td>29.438239</td>\n",
              "      <td>27.000000</td>\n",
              "      <td>3.000000</td>\n",
              "      <td>0.227880</td>\n",
              "      <td>0.005208</td>\n",
              "      <td>30.360000</td>\n",
              "    </tr>\n",
              "    <tr>\n",
              "      <th>25%</th>\n",
              "      <td>57.227721</td>\n",
              "      <td>91.000000</td>\n",
              "      <td>100.000000</td>\n",
              "      <td>0.355659</td>\n",
              "      <td>0.023727</td>\n",
              "      <td>150.019500</td>\n",
              "    </tr>\n",
              "    <tr>\n",
              "      <th>50%</th>\n",
              "      <td>66.033223</td>\n",
              "      <td>97.000000</td>\n",
              "      <td>100.000000</td>\n",
              "      <td>0.409547</td>\n",
              "      <td>0.030477</td>\n",
              "      <td>199.200000</td>\n",
              "    </tr>\n",
              "    <tr>\n",
              "      <th>75%</th>\n",
              "      <td>79.652127</td>\n",
              "      <td>100.000000</td>\n",
              "      <td>100.000000</td>\n",
              "      <td>0.495955</td>\n",
              "      <td>0.040793</td>\n",
              "      <td>259.937400</td>\n",
              "    </tr>\n",
              "    <tr>\n",
              "      <th>max</th>\n",
              "      <td>231.958630</td>\n",
              "      <td>100.354964</td>\n",
              "      <td>100.000000</td>\n",
              "      <td>1.393529</td>\n",
              "      <td>0.153760</td>\n",
              "      <td>408.120000</td>\n",
              "    </tr>\n",
              "  </tbody>\n",
              "</table>\n",
              "</div>\n",
              "      <button class=\"colab-df-convert\" onclick=\"convertToInteractive('df-36a0b259-3115-4e4d-8ebe-12d6dde94370')\"\n",
              "              title=\"Convert this dataframe to an interactive table.\"\n",
              "              style=\"display:none;\">\n",
              "        \n",
              "  <svg xmlns=\"http://www.w3.org/2000/svg\" height=\"24px\"viewBox=\"0 0 24 24\"\n",
              "       width=\"24px\">\n",
              "    <path d=\"M0 0h24v24H0V0z\" fill=\"none\"/>\n",
              "    <path d=\"M18.56 5.44l.94 2.06.94-2.06 2.06-.94-2.06-.94-.94-2.06-.94 2.06-2.06.94zm-11 1L8.5 8.5l.94-2.06 2.06-.94-2.06-.94L8.5 2.5l-.94 2.06-2.06.94zm10 10l.94 2.06.94-2.06 2.06-.94-2.06-.94-.94-2.06-.94 2.06-2.06.94z\"/><path d=\"M17.41 7.96l-1.37-1.37c-.4-.4-.92-.59-1.43-.59-.52 0-1.04.2-1.43.59L10.3 9.45l-7.72 7.72c-.78.78-.78 2.05 0 2.83L4 21.41c.39.39.9.59 1.41.59.51 0 1.02-.2 1.41-.59l7.78-7.78 2.81-2.81c.8-.78.8-2.07 0-2.86zM5.41 20L4 18.59l7.72-7.72 1.47 1.35L5.41 20z\"/>\n",
              "  </svg>\n",
              "      </button>\n",
              "      \n",
              "  <style>\n",
              "    .colab-df-container {\n",
              "      display:flex;\n",
              "      flex-wrap:wrap;\n",
              "      gap: 12px;\n",
              "    }\n",
              "\n",
              "    .colab-df-convert {\n",
              "      background-color: #E8F0FE;\n",
              "      border: none;\n",
              "      border-radius: 50%;\n",
              "      cursor: pointer;\n",
              "      display: none;\n",
              "      fill: #1967D2;\n",
              "      height: 32px;\n",
              "      padding: 0 0 0 0;\n",
              "      width: 32px;\n",
              "    }\n",
              "\n",
              "    .colab-df-convert:hover {\n",
              "      background-color: #E2EBFA;\n",
              "      box-shadow: 0px 1px 2px rgba(60, 64, 67, 0.3), 0px 1px 3px 1px rgba(60, 64, 67, 0.15);\n",
              "      fill: #174EA6;\n",
              "    }\n",
              "\n",
              "    [theme=dark] .colab-df-convert {\n",
              "      background-color: #3B4455;\n",
              "      fill: #D2E3FC;\n",
              "    }\n",
              "\n",
              "    [theme=dark] .colab-df-convert:hover {\n",
              "      background-color: #434B5C;\n",
              "      box-shadow: 0px 1px 3px 1px rgba(0, 0, 0, 0.15);\n",
              "      filter: drop-shadow(0px 1px 2px rgba(0, 0, 0, 0.3));\n",
              "      fill: #FFFFFF;\n",
              "    }\n",
              "  </style>\n",
              "\n",
              "      <script>\n",
              "        const buttonEl =\n",
              "          document.querySelector('#df-36a0b259-3115-4e4d-8ebe-12d6dde94370 button.colab-df-convert');\n",
              "        buttonEl.style.display =\n",
              "          google.colab.kernel.accessAllowed ? 'block' : 'none';\n",
              "\n",
              "        async function convertToInteractive(key) {\n",
              "          const element = document.querySelector('#df-36a0b259-3115-4e4d-8ebe-12d6dde94370');\n",
              "          const dataTable =\n",
              "            await google.colab.kernel.invokeFunction('convertToInteractive',\n",
              "                                                     [key], {});\n",
              "          if (!dataTable) return;\n",
              "\n",
              "          const docLinkHtml = 'Like what you see? Visit the ' +\n",
              "            '<a target=\"_blank\" href=https://colab.research.google.com/notebooks/data_table.ipynb>data table notebook</a>'\n",
              "            + ' to learn more about interactive tables.';\n",
              "          element.innerHTML = '';\n",
              "          dataTable['output_type'] = 'display_data';\n",
              "          await google.colab.output.renderOutput(dataTable, element);\n",
              "          const docLink = document.createElement('div');\n",
              "          docLink.innerHTML = docLinkHtml;\n",
              "          element.appendChild(docLink);\n",
              "        }\n",
              "      </script>\n",
              "    </div>\n",
              "  </div>\n",
              "  "
            ]
          },
          "metadata": {},
          "execution_count": 142
        }
      ]
    },
    {
      "cell_type": "code",
      "source": [
        "print(data.count())\n",
        "data.isnull().sum()"
      ],
      "metadata": {
        "colab": {
          "base_uri": "https://localhost:8080/"
        },
        "id": "Lf137UHIuD4U",
        "outputId": "11e69437-6777-42c0-cbdf-0ad323fcda5b"
      },
      "execution_count": null,
      "outputs": [
        {
          "output_type": "stream",
          "name": "stdout",
          "text": [
            "Unidade administrativa                                               559\n",
            "Consumo de água autorizado na rede pública (m3/habitante servido)    471\n",
            "Acessibilidade física do serviço de abastecimento de água (%)        526\n",
            "Destino adequado das águas residuais urbanas (%)                     488\n",
            "Resíduos urbanos recolhidos (ton/habitante)                          557\n",
            "Resíduos de embalagens recolhidos seletivamente (ton/habitante)      559\n",
            "Gastos por familia(€/ano)                                            524\n",
            "dtype: int64\n"
          ]
        },
        {
          "output_type": "execute_result",
          "data": {
            "text/plain": [
              "Unidade administrativa                                                0\n",
              "Consumo de água autorizado na rede pública (m3/habitante servido)    88\n",
              "Acessibilidade física do serviço de abastecimento de água (%)        33\n",
              "Destino adequado das águas residuais urbanas (%)                     71\n",
              "Resíduos urbanos recolhidos (ton/habitante)                           2\n",
              "Resíduos de embalagens recolhidos seletivamente (ton/habitante)       0\n",
              "Gastos por familia(€/ano)                                            35\n",
              "dtype: int64"
            ]
          },
          "metadata": {},
          "execution_count": 143
        }
      ]
    },
    {
      "cell_type": "markdown",
      "source": [
        "Definimos como target a Unidade administrativa, então o objetivo da nossa análise é a partir dos dados ligados ao consumo de água, recolha de resíduos e encargos financeiros anuais por família, prever o target. \n",
        "No histograma abaixo podemos observar que a maior parte dos nosso registos têm como target o concelho, ou seja, o nosso target esta desbalanceado.\n",
        "\n",
        "Para resolver este problema vamos usar a abortagem Oversampling, está implementação será feita na secção de pre-processamento.\n"
      ],
      "metadata": {
        "id": "1FHWMCldhPmT"
      }
    },
    {
      "cell_type": "code",
      "source": [
        "np.unique(data['Unidade administrativa'],return_counts=True)"
      ],
      "metadata": {
        "colab": {
          "base_uri": "https://localhost:8080/"
        },
        "id": "yiEqmcxUzC17",
        "outputId": "320bf4c5-cf99-4d59-befd-e94b6b60c515"
      },
      "execution_count": null,
      "outputs": [
        {
          "output_type": "execute_result",
          "data": {
            "text/plain": [
              "(array(['Comunidade intermunicipal ou área metropolitana', 'Concelho'],\n",
              "       dtype=object), array([ 31, 528]))"
            ]
          },
          "metadata": {},
          "execution_count": 144
        }
      ]
    },
    {
      "cell_type": "code",
      "source": [
        "sns.countplot(x = data['Unidade administrativa']);"
      ],
      "metadata": {
        "colab": {
          "base_uri": "https://localhost:8080/",
          "height": 370
        },
        "id": "OzSw9X7IzyFI",
        "outputId": "70d0f7f4-2af4-4c6f-b51b-24bd1d3a6203"
      },
      "execution_count": null,
      "outputs": [
        {
          "output_type": "display_data",
          "data": {
            "text/plain": [
              "<Figure size 576x396 with 1 Axes>"
            ],
            "image/png": "[encoded data removed]"
          },
          "metadata": {}
        }
      ]
    },
    {
      "cell_type": "code",
      "source": [
        "data.select_dtypes(include = 'object' ).describe()"
      ],
      "metadata": {
        "colab": {
          "base_uri": "https://localhost:8080/",
          "height": 175
        },
        "id": "0QkeZ7D-WPhm",
        "outputId": "6d87613f-3ae6-4ea4-a8c6-eb7e6775b7e2"
      },
      "execution_count": null,
      "outputs": [
        {
          "output_type": "execute_result",
          "data": {
            "text/plain": [
              "       Unidade administrativa\n",
              "count                     559\n",
              "unique                      2\n",
              "top                  Concelho\n",
              "freq                      528"
            ],
            "text/html": [
              "\n",
              "  <div id=\"df-f1e65278-b7ad-4a87-814a-370628f151c8\">\n",
              "    <div class=\"colab-df-container\">\n",
              "      <div>\n",
              "<style scoped>\n",
              "    .dataframe tbody tr th:only-of-type {\n",
              "        vertical-align: middle;\n",
              "    }\n",
              "\n",
              "    .dataframe tbody tr th {\n",
              "        vertical-align: top;\n",
              "    }\n",
              "\n",
              "    .dataframe thead th {\n",
              "        text-align: right;\n",
              "    }\n",
              "</style>\n",
              "<table border=\"1\" class=\"dataframe\">\n",
              "  <thead>\n",
              "    <tr style=\"text-align: right;\">\n",
              "      <th></th>\n",
              "      <th>Unidade administrativa</th>\n",
              "    </tr>\n",
              "  </thead>\n",
              "  <tbody>\n",
              "    <tr>\n",
              "      <th>count</th>\n",
              "      <td>559</td>\n",
              "    </tr>\n",
              "    <tr>\n",
              "      <th>unique</th>\n",
              "      <td>2</td>\n",
              "    </tr>\n",
              "    <tr>\n",
              "      <th>top</th>\n",
              "      <td>Concelho</td>\n",
              "    </tr>\n",
              "    <tr>\n",
              "      <th>freq</th>\n",
              "      <td>528</td>\n",
              "    </tr>\n",
              "  </tbody>\n",
              "</table>\n",
              "</div>\n",
              "      <button class=\"colab-df-convert\" onclick=\"convertToInteractive('df-f1e65278-b7ad-4a87-814a-370628f151c8')\"\n",
              "              title=\"Convert this dataframe to an interactive table.\"\n",
              "              style=\"display:none;\">\n",
              "        \n",
              "  <svg xmlns=\"http://www.w3.org/2000/svg\" height=\"24px\"viewBox=\"0 0 24 24\"\n",
              "       width=\"24px\">\n",
              "    <path d=\"M0 0h24v24H0V0z\" fill=\"none\"/>\n",
              "    <path d=\"M18.56 5.44l.94 2.06.94-2.06 2.06-.94-2.06-.94-.94-2.06-.94 2.06-2.06.94zm-11 1L8.5 8.5l.94-2.06 2.06-.94-2.06-.94L8.5 2.5l-.94 2.06-2.06.94zm10 10l.94 2.06.94-2.06 2.06-.94-2.06-.94-.94-2.06-.94 2.06-2.06.94z\"/><path d=\"M17.41 7.96l-1.37-1.37c-.4-.4-.92-.59-1.43-.59-.52 0-1.04.2-1.43.59L10.3 9.45l-7.72 7.72c-.78.78-.78 2.05 0 2.83L4 21.41c.39.39.9.59 1.41.59.51 0 1.02-.2 1.41-.59l7.78-7.78 2.81-2.81c.8-.78.8-2.07 0-2.86zM5.41 20L4 18.59l7.72-7.72 1.47 1.35L5.41 20z\"/>\n",
              "  </svg>\n",
              "      </button>\n",
              "      \n",
              "  <style>\n",
              "    .colab-df-container {\n",
              "      display:flex;\n",
              "      flex-wrap:wrap;\n",
              "      gap: 12px;\n",
              "    }\n",
              "\n",
              "    .colab-df-convert {\n",
              "      background-color: #E8F0FE;\n",
              "      border: none;\n",
              "      border-radius: 50%;\n",
              "      cursor: pointer;\n",
              "      display: none;\n",
              "      fill: #1967D2;\n",
              "      height: 32px;\n",
              "      padding: 0 0 0 0;\n",
              "      width: 32px;\n",
              "    }\n",
              "\n",
              "    .colab-df-convert:hover {\n",
              "      background-color: #E2EBFA;\n",
              "      box-shadow: 0px 1px 2px rgba(60, 64, 67, 0.3), 0px 1px 3px 1px rgba(60, 64, 67, 0.15);\n",
              "      fill: #174EA6;\n",
              "    }\n",
              "\n",
              "    [theme=dark] .colab-df-convert {\n",
              "      background-color: #3B4455;\n",
              "      fill: #D2E3FC;\n",
              "    }\n",
              "\n",
              "    [theme=dark] .colab-df-convert:hover {\n",
              "      background-color: #434B5C;\n",
              "      box-shadow: 0px 1px 3px 1px rgba(0, 0, 0, 0.15);\n",
              "      filter: drop-shadow(0px 1px 2px rgba(0, 0, 0, 0.3));\n",
              "      fill: #FFFFFF;\n",
              "    }\n",
              "  </style>\n",
              "\n",
              "      <script>\n",
              "        const buttonEl =\n",
              "          document.querySelector('#df-f1e65278-b7ad-4a87-814a-370628f151c8 button.colab-df-convert');\n",
              "        buttonEl.style.display =\n",
              "          google.colab.kernel.accessAllowed ? 'block' : 'none';\n",
              "\n",
              "        async function convertToInteractive(key) {\n",
              "          const element = document.querySelector('#df-f1e65278-b7ad-4a87-814a-370628f151c8');\n",
              "          const dataTable =\n",
              "            await google.colab.kernel.invokeFunction('convertToInteractive',\n",
              "                                                     [key], {});\n",
              "          if (!dataTable) return;\n",
              "\n",
              "          const docLinkHtml = 'Like what you see? Visit the ' +\n",
              "            '<a target=\"_blank\" href=https://colab.research.google.com/notebooks/data_table.ipynb>data table notebook</a>'\n",
              "            + ' to learn more about interactive tables.';\n",
              "          element.innerHTML = '';\n",
              "          dataTable['output_type'] = 'display_data';\n",
              "          await google.colab.output.renderOutput(dataTable, element);\n",
              "          const docLink = document.createElement('div');\n",
              "          docLink.innerHTML = docLinkHtml;\n",
              "          element.appendChild(docLink);\n",
              "        }\n",
              "      </script>\n",
              "    </div>\n",
              "  </div>\n",
              "  "
            ]
          },
          "metadata": {},
          "execution_count": 146
        }
      ]
    },
    {
      "cell_type": "markdown",
      "source": [
        "No histograma abaixo temos a distribuição dos dados dos gastos por família e a sua correlação com o target."
      ],
      "metadata": {
        "id": "7H90oV9PA9uK"
      }
    },
    {
      "cell_type": "code",
      "source": [
        "sns.histplot(x='Gastos por familia(€/ano)', data=data, kde=True, hue='Unidade administrativa')  \n",
        "plt.show()"
      ],
      "metadata": {
        "colab": {
          "base_uri": "https://localhost:8080/",
          "height": 370
        },
        "id": "SQVkbcE7yhKX",
        "outputId": "bd474ce5-3cf4-460b-fbd2-d61418147070"
      },
      "execution_count": null,
      "outputs": [
        {
          "output_type": "display_data",
          "data": {
            "text/plain": [
              "<Figure size 576x396 with 1 Axes>"
            ],
            "image/png": "[encoded data removed]"
          },
          "metadata": {}
        }
      ]
    },
    {
      "cell_type": "markdown",
      "source": [
        "Neste histograma verificamos de forma gráfica a frequência dos dados referentes do consumo de água autorizado na rede pública (m3/habitante servido), podemos observar que os dados mais frequentes variam entre 50 e 75, ou seja certa de 220 registos têm um consumo dentro deste intervalo."
      ],
      "metadata": {
        "id": "m2TM47clCFU1"
      }
    },
    {
      "cell_type": "code",
      "source": [
        "plt.hist(x = data['Consumo de água autorizado na rede pública (m3/habitante servido)']);"
      ],
      "metadata": {
        "colab": {
          "base_uri": "https://localhost:8080/",
          "height": 353
        },
        "id": "kC4pCTNux_CP",
        "outputId": "0ed0d198-4ec7-4619-87db-53c2d4a113bf"
      },
      "execution_count": null,
      "outputs": [
        {
          "output_type": "display_data",
          "data": {
            "text/plain": [
              "<Figure size 576x396 with 1 Axes>"
            ],
            "image/png": "[encoded data removed]"
          },
          "metadata": {}
        }
      ]
    },
    {
      "cell_type": "markdown",
      "source": [
        "No gráfico abaixo decidimos observar a correlação entre algumas das principais features do nosso dataset, observamos nesse gráfico que a priori temos dados uniformes, e nenhum valor que de para considerar como sendo um outlier. Esperávamos que as regiões onde temos maior gastos por família, fossem a com maior consumo de água por habitante, mas os gráficos mostram que as regiões com maior gastos por família são as que a media do somatório entre que o consumo de agua e recolha de resíduos atingem valores mais altos, ou seja, o que define em grande parte o gasto por família são essa duas features."
      ],
      "metadata": {
        "id": "gmLlcR-xD7kQ"
      }
    },
    {
      "cell_type": "code",
      "source": [
        "c3 = 'Gastos por familia(€/ano)'\n",
        "c1 = 'Consumo de água autorizado na rede pública (m3/habitante servido)'\n",
        "c2 = 'Resíduos de embalagens recolhidos seletivamente (ton/habitante)'\n",
        "ver = data[[c1,c2,c3]]\n",
        "ver.rename(columns ={c1:'consumo agua',c2:'residuos recolhidos(tn/hb)'},inplace=True)\n",
        "grafico = px.scatter_matrix(ver, dimensions=['consumo agua','residuos recolhidos(tn/hb)',c3], color = c3)\n",
        "grafico.show()"
      ],
      "metadata": {
        "colab": {
          "base_uri": "https://localhost:8080/",
          "height": 664
        },
        "id": "5raN1cNHtrxz",
        "outputId": "404f96df-8f57-473c-8949-8e30fae6df21"
      },
      "execution_count": null,
      "outputs": [
        {
          "output_type": "stream",
          "name": "stderr",
          "text": [
            "/usr/local/lib/python3.7/dist-packages/pandas/core/frame.py:5047: SettingWithCopyWarning:\n",
            "\n",
            "\n",
            "A value is trying to be set on a copy of a slice from a DataFrame\n",
            "\n",
            "See the caveats in the documentation: https://pandas.pydata.org/pandas-docs/stable/user_guide/indexing.html#returning-a-view-versus-a-copy\n",
            "\n"
          ]
        },
        {
          "output_type": "display_data",
          "data": {
            "text/html": [
              "<html>\n",
              "<head><meta charset=\"utf-8\" /></head>\n",
              "<body>\n",
              "    <div>            <script src=\"https://cdnjs.cloudflare.com/ajax/libs/mathjax/2.7.5/MathJax.js?config=TeX-AMS-MML_SVG\"></script><script type=\"text/javascript\">if (window.MathJax) {MathJax.Hub.Config({SVG: {font: \"STIX-Web\"}});}</script>                <script type=\"text/javascript\">window.PlotlyConfig = {MathJaxConfig: 'local'};</script>\n",
              "        <script src=\"https://cdn.plot.ly/plotly-2.8.3.min.js\"></script>                <div id=\"3f104f21-585e-4aad-a24d-083fff3075d9\" class=\"plotly-graph-div\" style=\"height:525px; width:100%;\"></div>            <script type=\"text/javascript\">                                    window.PLOTLYENV=window.PLOTLYENV || {};                                    if (document.getElementById(\"3f104f21-585e-4aad-a24d-083fff3075d9\")) {                    Plotly.newPlot(                        \"3f104f21-585e-4aad-a24d-083fff3075d9\",                        [{\"dimensions\":[{\"axis\":{\"matches\":true},\"label\":\"consumo agua\",\"values\":[69.39716306815616,null,69.19489388807284,null,216.51768347060508,74.04432827249286,77.17167552037098,61.63591341984449,85.07991493956959,66.90703586256808,73.09807515142799,88.08325646895761,48.51158682766009,119.44818310872955,63.02617575719726,77.29659834706847,63.917867007149944,null,53.0726336517047,null,71.28322267880854,null,67.90224224931097,null,55.013533601557484,58.8267939254573,81.21401699657703,122.6975280992942,61.08670061460964,111.6643874421062,59.527718744176504,43.77605583587431,63.399137207031096,74.37596908920118,54.242047466740246,null,56.825420019490466,80.08923033503508,52.03639919909828,35.925901621892756,56.71279300776315,63.01664899297457,77.809543099238,68.82625397541375,null,null,60.22525931053792,60.62652524731409,null,67.38543527495362,82.11540821644066,38.37184250695028,61.39925667800911,99.08839750797293,80.07506556571607,59.04092141435423,92.89464913192882,62.654196889940394,73.20359671806425,86.25217463389076,49.51922302953041,79.59360739297628,50.50014722769835,59.52280324713974,null,163.93949845693916,68.57380354951654,null,null,null,66.41577647942474,74.11708015955583,82.90968190568265,63.27426606975667,64.16669845006011,null,62.26303901129495,73.69203398174916,57.04045963418032,59.25381406140791,64.29582558693646,72.91282414504442,73.8303723040084,null,83.20012169329792,73.5093891662571,56.10961633925307,86.63462355012365,null,55.228091437602245,84.71788516062345,74.62776967406228,null,73.44624069644122,61.06320498633905,71.04860785844393,95.23643071831194,36.49830032845219,65.50397092693154,64.42380771261503,81.31245578543418,51.62621604415205,68.89188839633758,166.08821312752707,61.62529522602963,null,109.3292120619476,null,166.06747762517537,132.3597548391864,49.88191944444303,66.03322282524947,205.46833285331135,213.46503533359945,null,null,54.734181374823,40.21479264032303,76.89284894119683,62.994362161131335,50.50939353513517,69.63902999414137,66.1292945151815,66.16504010635694,70.51833338198192,78.57623394224021,71.77515511576448,43.858959002008916,75.12006240483183,59.421313111935596,null,61.22124385408805,123.76701061482125,52.82964636596116,69.00090482867111,100.55441669222175,90.01857275442009,117.81054910509069,49.29271019515098,53.14742592110591,67.00863214524159,63.37319356727113,65.80569030088427,90.92467106445756,null,53.14440148526974,56.82259855983875,37.527842375114886,null,93.78293851272964,70.62408737729342,null,108.62533090745374,75.38238499909748,null,null,56.125051197834864,88.92417131445634,51.850371394774065,null,60.58414349163734,81.53825818749486,53.017585741494,null,38.61986742697268,72.17926235518938,62.79221970719405,33.920198170269906,60.51164978376181,null,57.25546479613685,47.80952513554111,76.33675660523193,64.52968937529242,null,110.12812391401614,53.60769019060199,66.43533081695877,62.42130617123107,59.14460658904504,61.47206935171344,74.0182936340924,87.76705540816207,92.81151127269392,111.13055811117657,82.92435431426571,59.09940516886048,52.07668880658778,64.67604996262088,64.0586618651302,65.88319847096538,66.62426618865146,54.78062253920442,48.00625273249363,65.71166620611822,63.78647267800525,null,null,40.93102629611469,39.00198773237654,77.41096559601596,96.56247877735522,null,103.20867412573635,63.1842857567167,57.85269304720862,null,59.11135285281247,61.66385721086363,76.30265487611217,44.32565852507917,79.18463175349113,62.76884237840366,84.36570485451824,71.95835853728198,null,127.55251020865832,67.22465326497968,55.96190674126408,67.13836249721969,null,68.11213189144195,66.83936719681908,104.6696169616113,55.32987027174331,96.37507616499461,null,73.02586557503598,68.09376325004142,91.99171447944327,null,null,47.369913071260854,62.857523459335646,50.33252560954319,44.135029566781164,85.79120785422978,71.20075535164482,76.12268537091668,null,47.444785912635794,110.36005994855282,198.53328812498577,67.43178450839508,50.887470138503765,69.708815112379,60.11801232131605,76.71834215929968,51.26341527302369,77.77294923778618,79.31062783738446,57.827785151978354,61.603786492575836,62.33324430807404,125.39937390354933,83.46620735814761,58.92807227102147,64.11904167892361,139.88938754737967,59.279761928350915,103.27330390245514,null,95.85244005676957,61.95575439233418,null,29.4382393370832,79.76917088719232,null,64.90404064971572,null,null,73.33459834484084,104.42327461473184,72.34533995254446,null,58.35135913116015,57.48656620513087,70.11462099592953,null,75.27640901197208,null,231.95863029370443,75.57293377409485,72.93549200990074,65.01044924072886,97.72655960544785,71.0113044282993,69.06953021309872,86.29604386032322,44.199776640637005,109.46924211376212,64.42098513517338,78.80952233888192,87.17265560874652,null,52.76034607746469,null,59.55010144352976,null,65.87834669923585,null,55.65486916204389,64.31960754594567,76.9156788492218,59.10180132754186,54.24213689355044,89.3307107478154,57.53758568023678,40.77393066726928,64.33176665455281,82.63098568353405,51.065591126248634,null,55.746145866984804,82.29650033090303,52.760847086718165,34.45967438031807,52.564386501359095,60.821222755473215,77.70431749436857,73.38071261006769,124.44917536397583,null,62.97580939629991,59.1281859949252,89.23498906284561,61.88692112424221,70.33060687305813,51.639645687036484,59.02439974935043,92.78193560932138,76.2446275349662,57.74034316896106,88.33184978897481,61.157874809832016,67.50098215797912,85.37476685499533,51.66760785582865,75.61366973795188,90.86189776266812,51.41813124091125,41.83702678205696,162.4580940720561,68.18916383334509,80.498898160166,36.65174674683838,null,67.57234997946487,76.88811717981869,60.369094292865526,60.449650524625504,null,60.25429559619098,70.85179517009911,55.38485936987445,62.1557288240948,79.28348558220996,59.72949236084668,62.48144299912715,null,117.91794454928107,70.04840931160454,49.38881435220491,85.49082794666322,45.18932605842448,52.055303632103666,92.31953737258411,75.24412139917291,81.28378475147431,46.21256507594235,61.50056150929304,74.26430231931383,null,52.04149407581964,71.38974998627796,60.813659205455934,77.46017380309004,48.65300014163878,66.5772075364609,124.21947345108774,61.910102750222606,null,111.27479912530626,null,167.3055966117063,137.04241946546264,46.9323662827798,61.82800543981746,192.2504810185406,220.81566672379307,null,57.19997819078259,59.147864866074535,40.357276392475924,66.6217517246293,75.1790747005822,57.79959476261769,80.31328839349473,46.466900810874314,70.94412020595563,78.72853252480246,62.0578245889419,65.16477901986163,null,72.74543284830852,79.40596520816844,79.39639672294545,57.44079390874007,59.65330125634857,75.34660010318477,109.53970994772388,63.35000146251288,91.25228326792245,92.7521645556025,null,48.88100944049022,46.87428619691951,69.05271752695813,62.52357144306467,63.37852070633474,106.52679006904549,null,51.19310895590008,56.852629269444186,41.76664661934047,null,91.5703113013851,69.15141262788286,72.11535970350693,111.33501765596178,70.29026189721372,null,null,57.283902568856305,94.10638595940364,49.37266746857532,null,54.845192823212074,81.56964723090181,53.06922804417701,null,36.056824185780364,95.90630968084334,58.305949468867,30.919832960253125,51.09587601720323,127.92006910987861,55.575262031403234,42.787639719033095,38.82686171808083,79.71064649552149,58.85281541704306,64.29411779848952,104.47013581288957,49.34999927891302,54.898093447830995,62.770374750496366,51.317732001819635,58.48234757067225,73.21623671243532,87.77195573428638,91.30179611316649,111.76490745077767,78.87033275704697,62.25751828409357,40.93778651573852,53.391861244391336,67.78766997748028,58.55607690636986,65.08552246569894,52.0764955136516,49.758117403975554,68.2715416304972,51.61701589466675,null,null,37.79630872065477,39.75279752124202,74.36192195981945,100.11556607423032,null,99.9908227086474,61.14454511355561,56.9328093787192,null,53.13084948463939,59.19294275375259,74.93138969220911,42.20359048918889,82.10957568965065,70.06837239117205,81.11443833809498,72.6346748766883,null,83.9450392116205,126.43697384168784,65.85869800595775,57.94946672542282,64.58812136342817,54.84919853941301,41.36702214059096,65.6175205675114,102.77956749164558,97.10737871199512,94.00071558346647,null,null,66.02579508307603,83.02845485274493,null,null,46.38269101530502,52.05623128309305,46.35249867513826,45.26108869375701,85.5874077759411,69.64884586976585,74.73483304040218,null,41.49724375653753,105.48728498702542,175.35665774433411,60.82117592361879,50.42355903810718,66.4584741100851,54.53829565506277,64.04764357937646,46.75625191528684,73.74898239207985,58.006376501781844,50.87804872514341,55.95883052098632,63.21124116000139,62.57089431011143,116.23446575561957,84.89662298779724,52.968370286725836,58.708594783026804,96.04084771570028,71.21346521021813,118.81404588120958,null,null,77.64006799169675,null,77.99036671400839,null,59.04959378766738,null,65.21041797502936,74.50486264503978,98.38175756879649,136.87929335299046,null,67.31471773419722,47.26037721081923,54.4902487137987,null,73.82786791032949]},{\"axis\":{\"matches\":true},\"label\":\"residuos recolhidos(tn/hb)\",\"values\":[0.04378893833439288,0.029856062352029165,0.020845456101317817,0.026465230476793916,0.08376604291172725,0.044304767744902655,0.04002019036631093,0.032931755243151714,0.050202060447378904,0.022625985601645526,0.0264866988698084,0.026505190311418687,0.01925975548484341,0.06271244051665534,0.04298908933779842,0.04338332471412975,0.011469207401270368,0.03033025325119781,0.03221908981071285,0.019605297325370034,0.05095367770915216,0.029641827912721283,0.04153354632587859,0.03419057189841038,0.030783449452580693,0.046234316268727836,0.037598627787307035,0.02202925045703839,0.03357224143213551,0.026018937834499795,0.026996982690169924,0.024509146205107562,0.043188917560776856,0.04518167456556082,0.0167276529012023,0.03552581261950287,0.05600525049223365,0.02768864032272852,0.01802943182925641,0.027194723858095706,0.028985823336968374,0.041122848001625106,0.03138247390066435,0.04139008199921906,0.02930456334742674,0.019780144043557667,0.04199287500947472,0.0379108141279149,0.061010434782608695,0.06424454802913596,0.014816648396336502,0.02734889287851586,0.03875316277762159,0.03583096522260241,0.04217573723327739,0.05821901608325449,0.05443366580133898,0.026505190311418687,0.022483852505927562,0.05130972156974801,0.0294578502036979,0.04362936427311127,0.014402677344170202,0.059583211036102146,0.017508577244518934,0.05898918037646361,0.04315557998900495,0.017288444040036398,0.020101502637078317,0.03468379446640316,0.032951046238149505,0.009595143682381162,0.04948534129264415,0.03100948588827732,0.04363905325443787,0.01764941837144003,0.022823908720582275,0.05663430420711974,0.03403034030340303,0.058670595372215965,0.0444283876076413,0.02963568866796703,0.048227944181701406,0.03301885394673482,0.04092750384131862,0.03275849883383985,0.03009894732684218,0.06411152416356877,0.01784207353827607,0.027763779527559054,0.04211625478593804,0.03428571428571429,0.02252396166134185,0.02463932566056087,0.02024453798356384,0.03571184003286996,0.04868035190615836,0.0253311881696505,0.04262826718296224,0.02488262910798122,0.05032021957913998,0.028489468954394234,0.0199345009255304,0.049575070821529746,0.028278601819421264,0.04424420075383876,0.02819061342116097,0.036167677081714075,0.07686615886833514,0.09249895326741601,0.016260162601626018,0.036538953442949794,0.07672851553585415,0.07480671745348474,0.026370197052084793,0.013405867495628521,0.029811406498523062,0.021313862451727266,0.04702353784964465,0.05712666104976867,0.026238297474275023,0.029652801116827384,0.05897010250569476,0.05040517899679732,0.04253524574113961,0.033724085531314445,0.018146824305746493,0.011529438303631852,0.038164460489370236,0.02255153458543289,0.014816648396336505,0.026505190311418687,0.03571184003286996,0.008617312965139052,0.025413076072634752,0.03000520020800832,0.03110008271298594,0.027142666488722808,0.0478672273956143,0.039669735218752965,0.030452486092791192,0.028275572198234688,0.032543047909101556,0.03977501004419445,0.017508577244518934,0.02835102525219226,0.039429215170859934,0.010584677419354838,0.03259329239489844,0.032194220873466156,0.017508577244518934,0.056644295302013425,0.09318722392116888,0.03024936699148316,0.026370197052084796,0.05488531257262375,0.03023946862436637,0.03535553793285752,0.025418664645610763,0.034283480979676914,0.024982018700551428,0.04373857006008883,0.03841157914269809,0.0338640384129391,0.029428470003549877,0.03101971956518279,0.017668154429814776,0.03168535703594538,0.025726244835833877,0.025798212005108557,0.02328240771096977,0.02822943333563966,0.019699049630411827,0.037628048780487804,0.019421193381246867,0.05711094296112132,0.02589457708248205,0.01708943596135868,0.032997084231305575,0.027006881684769092,0.029730562324704585,0.06063688554000718,0.07095868431608504,0.04679838207840697,0.11279533930305319,0.05756531181736682,0.02493632404896886,0.041117609430686285,0.05513499873832955,0.02958864565792639,0.02147631915801451,0.0251957886959734,0.011087645195353749,0.04554859413202934,0.026944129860324652,0.020594246187706337,0.024209183673469387,0.018592896791371452,0.0415685655219938,0.017365415986949427,0.03271704180064309,0.03737940771118357,0.03693555151684608,0.04895891952729319,0.053439414175839355,0.01663703327406655,0.03985783193703986,0.017508577244518934,0.027568617925674034,0.04034270766858955,0.03509081290777641,0.0350124815976445,0.02980942962972292,0.02803959595959596,0.03415439204522012,0.033132081579799286,0.05211406096361849,0.03915201079836437,0.033442300118156756,0.02538841257469473,0.05340953882538431,0.014803149606299212,0.016525844930417494,0.0760499866243742,0.04756652419688405,0.0247068367873737,0.017508577244518937,0.035711840032869965,0.04257220159818788,0.018019842073294188,0.03912920844124208,0.03131591615246598,0.029290587823652906,0.029588730799178876,0.03206972234652347,0.021324487619950244,0.028195171365861894,0.04858088107261013,0.051523245984784444,0.07080242751180041,0.02123566976994691,0.06373117033603708,0.09985736021300874,0.04639583569084531,0.026505190311418687,0.03354367868153062,0.03619229718656105,0.033178428617745594,0.04434664355311136,0.03571184003286996,0.03632931408061662,0.023485784919653894,0.03138393872753469,0.03274831243972999,0.057945291292545414,0.039667140017040615,0.028955897093217508,0.022959490323356174,0.014816648396336504,0.014816648396336504,0.029782420371899994,0.035136501516683516,0.045764810360200095,0.042052157287993795,0.03398808196042191,0.040256011245595434,0.03809099176987077,0.026607072858280158,0.033475623255236314,0.03734738619744616,0.03245025514896549,0.033110852536497,0.04039295379116671,0.03884381790259602,0.03728964733369116,0.04678793375413549,0.024253051079227258,0.03893200254291163,0.026021915397347526,0.0190655485195961,0.022414066212577223,0.07790944939747232,0.02691399662731872,0.03269108739544275,0.028539678619935442,0.03638169503102055,0.020401782653411037,0.024822613076940857,0.022024221453287196,0.013230614637414168,0.06275985723997281,0.04065788052284758,0.03827546400045969,0.013057166528583264,0.027806297056810404,0.03194791247147268,0.019002856400934826,0.04969006176305447,0.025524907369287773,0.039305111821086265,0.030467750776539376,0.02697995165647661,0.03340568584890677,0.03303602058319039,0.016575258988421694,0.02827176434542828,0.02140798682585426,0.023662061299031284,0.024911668679279037,0.039095477386934675,0.04391406003159558,0.028451945336419985,0.03133205863607393,0.05556770947276307,0.0237920601448611,0.01695741155832765,0.025118156672840994,0.02015267175572519,0.0291050987760906,0.029737424865548878,0.03843364757070341,0.03382417261991544,0.019711223681036564,0.036079739255665884,0.033214237010773216,0.027478260869565216,0.059682413743705025,0.013738109551257115,0.02657091561938959,0.035212257520382345,0.032070985327379224,0.04054063773675377,0.051915799432355726,0.048421915562235275,0.0220242214532872,0.020608290409614913,0.0499179093273408,0.028980570354120966,0.04025543139246823,0.01446243949082651,0.05583798062811858,0.015667466932415292,0.05024455313472655,0.038580263881253435,0.01955933965943065,0.01922335555776694,0.029841897233201582,0.008860821461790767,0.044282964657312615,0.026642463988757466,0.040954142011834324,0.018113718411552345,0.020608915574261057,0.05230312837108954,0.027015170151701517,0.05472744605251755,0.03746411956844502,0.025388535833385767,0.04311905178957202,0.02918842834389006,0.03560553149881268,0.029450491200791577,0.032547943041099675,0.055281908302354396,0.014965986394557823,0.025038158691702,0.03782341338902425,0.032595573440643864,0.02167731629392971,0.020042146214945697,0.018911605532170774,0.016126823255495446,0.04680351906158357,0.022859001129634068,0.03714571672313649,0.022535211267605635,0.039412625800548946,0.024859100025591125,0.019293749110066923,0.08951633616619453,0.02726781222820338,0.041733070248665606,0.027553828736105394,0.03311052386133997,0.06988744287268771,0.08874182743405584,0.014499269416657301,0.03378330456984799,0.06651781068513309,0.07637042281442044,0.022645686678890053,0.050553720613949873,0.0270961145194274,0.018232848671576592,0.0339329517579722,0.04299406663623916,0.05206716627496194,0.03436734693877551,0.02333021515434986,0.029368423773945863,0.055189066059225515,0.04533331813674649,0.03872136283532406,0.026658977316416765,0.03299685227396071,0.031379158647236734,0.03265142398716406,0.01977401129943503,0.013738109551257116,0.0220242214532872,0.016126823255495446,0.021920065425797754,0.025689027561102445,0.028582961124896607,0.025757373548645403,0.04262601381796335,0.029420138559362246,0.027408384469805588,0.02460738985900424,0.029106829096872438,0.036058658095620734,0.015667466932415292,0.025277246653919692,0.03571911378144949,0.005208333333333333,0.02853094000944733,0.0318643620530413,0.015667466932415292,0.053297986577181204,0.07611281005776419,0.028806874856134427,0.022645686678890053,0.04940041831280501,0.02709316553050166,0.032073310423825885,0.022751453848508258,0.02831335765155463,0.016874610405178615,0.03572672646520944,0.03639636296158842,0.02967616159428138,0.02630457933972311,0.02719994906972673,0.014602320910511049,0.02329196122228107,0.024570558817134158,0.020613793103448276,0.021375647498524688,0.025531031619732927,0.009664101307189542,0.024607532558958114,0.03927168021680217,0.022062510446264415,0.050408964796598565,0.01821259704629035,0.017876804819777707,0.026264737309162033,0.024790647541663213,0.027081704905972687,0.05822760435354623,0.06480794223826715,0.042271313005600504,0.10398460819218182,0.052253662807092864,0.02308913162435297,0.04098510463309878,0.05029333838001514,0.023815251383209043,0.01892191722372351,0.021959734022903583,0.009991200281590989,0.020441625916870418,0.02241411853529634,0.01304826285175287,0.020966198979591837,0.020166072476194775,0.03648644768577007,0.014274061990212071,0.02642556270096463,0.03415039160980201,0.03468474765832518,0.044687394485087226,0.04614746925804818,0.01627762255524511,0.03439020055851739,0.015667466932415292,0.020727066634280623,0.03323455635658278,0.02839005466408041,0.03009665237150355,0.025,0.02550868686868687,0.02932706193010686,0.03204920686306248,0.031110273123956256,0.04598398651495997,0.0354334564029272,0.028160693186293818,0.02364250454663549,0.05092353173039023,0.011968503937007874,0.041003976143141156,0.06790996293040853,0.03639873155935475,0.022047348624529835,0.015667466932415296,0.029738540730451835,0.032945321839803685,0.017191739218465275,0.035411164388830484,0.026957244759529122,0.02527991602519244,0.028102215615488074,0.028788169362228045,0.013838407771591043,0.027795036299172717,0.0390116663764583,0.04755142293603832,0.06290964261631828,0.019850734784950374,0.04287369640787949,0.15376017497147204,0.041064715275420265,0.022024221453287196,0.03156641292754555,0.030887735591368478,0.030476602183075758,0.041372765855699684,0.01612682325549545,0.03017582163118808,0.015667466932415296,0.02170031589067436,0.03139455524380071,0.021099324975891995,0.05730329922739612,0.029482249360976997,0.026340419311727366,0.018271426854189206,0.013738109551257118,0.013738109551257116,0.027364374357837905,0.03197674418604651,0.015667466932415292,0.04033467558461109,0.03839816083740195,0.03506542559761068,0.02358290261180911,0.029441621624540355,0.03338989381069829,0.02920835361399984,0.029508199081127118,0.041867032933367375,0.06651470933867842,0.05526957370512887,0.03562100753157216,0.02101080119653974,0.042639472997715575,0.032421427156320876,0.03500855078060352]},{\"axis\":{\"matches\":true},\"label\":\"Gastos por familia(\\u20ac/ano)\",\"values\":[266.472,227.39999999999998,163.92000000000002,314.19359999999995,229.812,94.80000000000001,210.9144,303.34799999999996,76.43039999999999,126.44760000000001,280.7808,100.2,185.7,171.24,121.92000000000002,187.07999999999998,245.4,173.622,145.92000000000002,165.342,196.32,174.60000000000002,96.60000000000001,206.65679999999998,130.92000000000002,126.12,132.0,200.39999999999998,220.8,78.24,201.0,163.62,84.0,125.4,284.274,375.9276,160.2,269.2092,177.36,266.64,71.16,196.5,135.804,240.84,53.400000000000006,146.86200000000002,222.59999999999997,185.88,232.07999999999998,198.83999999999997,null,270.6,186.12,195.72,228.0,282.75960000000003,194.652,181.56,233.796,199.95,180.0,270.0,119.28,195.6,null,89.52000000000001,136.20000000000002,221.88000000000002,243.24,138.222,234.78,52.8,220.4856,291.9,217.2,147.702,379.08000000000004,162.0,120.6,211.302,163.8,394.8,369.96000000000004,244.3884,146.88,148.8,168.108,260.81399999999996,206.76,136.2,273.0,298.236,96.0,193.79999999999998,210.0,114.0,130.07999999999998,283.08000000000004,200.4,152.04,117.36,299.33759999999995,137.04,186.24,289.5,269.196,202.8,255.8376,180.71999999999997,203.51999999999998,239.75999999999996,241.99919999999997,null,226.44,290.8356,258.0,193.2,298.3152,312.68519999999995,287.4,251.88120000000004,187.44,163.8,215.51999999999998,280.56,125.39999999999999,145.20000000000002,278.64,116.64000000000001,241.2,null,null,null,107.712,129.83999999999997,176.04000000000002,99.0,62.64,55.92,190.8,172.8,154.20000000000002,192.3816,64.80000000000001,null,91.2,144.0,242.64,221.1192,217.86,null,163.2,231.60000000000002,260.24159999999995,290.8356,230.77439999999999,39.599999999999994,259.836,244.32,262.3284,160.44,197.41799999999998,199.20000000000002,287.2092,376.08000000000004,126.0,141.83999999999997,348.93719999999996,158.52,163.2,126.6,276.0,141.6,31.200000000000003,166.2,307.26,110.4,180.0,222.35999999999999,159.048,163.08,117.0,291.59999999999997,88.56,285.48,228.3168,198.71999999999997,147.0,366.0,126.0,241.20000000000002,178.8,108.60000000000001,91.2,193.68,77.4,202.44,134.86200000000002,282.6,272.4,317.1468,116.982,313.212,231.72,300.0,86.64,240.6,null,264.0,187.26000000000002,217.32,100.32,135.60000000000002,175.7736,229.176,218.87400000000002,179.3364,314.7924,186.60000000000002,176.16000000000003,114.48000000000002,63.0,195.0,299.40000000000003,30.36,337.3728,null,null,367.0116,162.9192,336.49199999999996,152.6628,213.12,162.0,242.7312,190.2,144.51,90.72,256.9116,116.4,224.4,95.28,112.8,314.16,114.0,183.42360000000002,213.60000000000002,182.4,297.6,null,342.6,267.84000000000003,220.8,368.76,238.79999999999998,230.04,160.56,94.79999999999998,null,null,170.04,269.1984,null,287.8333411764706,193.31000000000003,213.59279999999998,168.34,185.2549090909091,244.72189090909094,null,189.83232,139.26214285714283,167.52,183.21996,132.44307692307694,192.08,null,272.2608,273.06600000000003,163.92000000000002,324.4416,307.6044,94.80000000000001,213.76440000000002,332.052,137.01,126.4476,357.9552,123.6,185.7,175.8,106.92000000000002,214.26,245.4,201.6696,153.0,191.8296,202.44,174.60000000000002,137.40000000000003,229.5048,135.24,126.11999999999999,150.36,211.8,229.92000000000002,136.7832,206.40000000000003,163.62,84.0,125.4,296.754,400.6416,106.2,273.46680000000003,182.26919999999998,266.64,73.8,236.0568,148.71120000000002,321.84000000000003,53.400000000000006,174.4296,222.6,185.88,232.07999999999998,209.76000000000002,null,307.44,192.12,241.79160000000002,230.4,282.7584,201.3084,183.24,244.2528,235.4148,187.2,270.0,133.61999999999998,202.44,null,264.0,136.20000000000002,221.88000000000002,263.04,164.7096,102.6,242.81040000000002,299.568,217.2,174.9096,396.6,162.0,125.28,234.88200000000003,248.97839999999997,408.12,382.43999999999994,284.22839999999997,147.35999999999999,139.56,201.204,276.462,216.11999999999998,136.2,333.0,335.16,172.79999999999998,193.79999999999998,210.0,114.0,137.76,293.28,212.39999999999998,152.04,128.8476,315.85440000000006,159.48000000000002,186.24,319.824,273.2712,196.55999999999997,301.7436,274.56,291.0,292.56,256.44,null,267.6,352.3008,258.0,219.0,307.0584,159.0,346.2324,307.92,157.56,244.77720000000002,187.44,184.79999999999998,222.36,148.92,103.56,125.4,145.2,116.64,250.2,null,null,null,219.33599999999998,184.8,99.0,84.72,70.92,190.8,175.2,163.8,199.99439999999998,71.4,null,91.19999999999999,144.0,242.64,266.598,323.64,null,181.2,231.6,260.2416,352.3008,313.04639999999995,42.0,269.7756,244.32000000000002,302.322,160.44,202.69799999999998,199.20000000000002,328.44719999999995,398.64,147.72840000000002,146.64,344.7276,158.51999999999998,163.2,220.5,289.2,156.72,146.64000000000001,31.200000000000003,166.2,318.71999999999997,110.4,283.4364,230.27999999999997,165.36,172.44,117.0,297.59999999999997,88.56,288.552,246.15120000000002,198.71999999999997,167.04,377.15999999999997,196.8,241.20000000000002,178.79999999999998,110.4,98.4,193.68,77.4,212.28,187.62959999999998,294.48,272.4,223.152,207.0768,353.52,237.24,313.5864,86.64,240.6,null,295.2,200.93999999999997,226.44,100.32,239.4,217.78799999999995,235.416,264.228,178.68,186.012,314.7924,186.60000000000002,176.16000000000003,294.59999999999997,63.0,221.39999999999998,315.36,30.36,337.3728,null,219.87359999999998,391.4028,165.7608,389.76000000000005,221.67720000000003,213.12,174.0,257.64,190.20000000000002,148.998,136.2,256.9116,160.8,231.95999999999998,99.6,165.48,354.48,114.0,null,228.84,182.4,315.12,null,367.20000000000005,null,277.2,213.12,368.76,298.2,230.04,216.0,94.79999999999998,null,null,187.44,273.2712,null,null,231.75330000000002,180.34,196.23425454545452,283.43214545454543,null,195.21912000000003,142.84842857142857,186.87408,239.73510000000002,187.49336,188.01516,216.6331636363636,205.22,231.73753846153846,279.43629999999996]}],\"hovertemplate\":\"%{xaxis.title.text}=%{x}<br>%{yaxis.title.text}=%{y}<br>Gastos por familia(\\u20ac/ano)=%{marker.color}<extra></extra>\",\"legendgroup\":\"\",\"marker\":{\"color\":[266.472,227.39999999999998,163.92000000000002,314.19359999999995,229.812,94.80000000000001,210.9144,303.34799999999996,76.43039999999999,126.44760000000001,280.7808,100.2,185.7,171.24,121.92000000000002,187.07999999999998,245.4,173.622,145.92000000000002,165.342,196.32,174.60000000000002,96.60000000000001,206.65679999999998,130.92000000000002,126.12,132.0,200.39999999999998,220.8,78.24,201.0,163.62,84.0,125.4,284.274,375.9276,160.2,269.2092,177.36,266.64,71.16,196.5,135.804,240.84,53.400000000000006,146.86200000000002,222.59999999999997,185.88,232.07999999999998,198.83999999999997,null,270.6,186.12,195.72,228.0,282.75960000000003,194.652,181.56,233.796,199.95,180.0,270.0,119.28,195.6,null,89.52000000000001,136.20000000000002,221.88000000000002,243.24,138.222,234.78,52.8,220.4856,291.9,217.2,147.702,379.08000000000004,162.0,120.6,211.302,163.8,394.8,369.96000000000004,244.3884,146.88,148.8,168.108,260.81399999999996,206.76,136.2,273.0,298.236,96.0,193.79999999999998,210.0,114.0,130.07999999999998,283.08000000000004,200.4,152.04,117.36,299.33759999999995,137.04,186.24,289.5,269.196,202.8,255.8376,180.71999999999997,203.51999999999998,239.75999999999996,241.99919999999997,null,226.44,290.8356,258.0,193.2,298.3152,312.68519999999995,287.4,251.88120000000004,187.44,163.8,215.51999999999998,280.56,125.39999999999999,145.20000000000002,278.64,116.64000000000001,241.2,null,null,null,107.712,129.83999999999997,176.04000000000002,99.0,62.64,55.92,190.8,172.8,154.20000000000002,192.3816,64.80000000000001,null,91.2,144.0,242.64,221.1192,217.86,null,163.2,231.60000000000002,260.24159999999995,290.8356,230.77439999999999,39.599999999999994,259.836,244.32,262.3284,160.44,197.41799999999998,199.20000000000002,287.2092,376.08000000000004,126.0,141.83999999999997,348.93719999999996,158.52,163.2,126.6,276.0,141.6,31.200000000000003,166.2,307.26,110.4,180.0,222.35999999999999,159.048,163.08,117.0,291.59999999999997,88.56,285.48,228.3168,198.71999999999997,147.0,366.0,126.0,241.20000000000002,178.8,108.60000000000001,91.2,193.68,77.4,202.44,134.86200000000002,282.6,272.4,317.1468,116.982,313.212,231.72,300.0,86.64,240.6,null,264.0,187.26000000000002,217.32,100.32,135.60000000000002,175.7736,229.176,218.87400000000002,179.3364,314.7924,186.60000000000002,176.16000000000003,114.48000000000002,63.0,195.0,299.40000000000003,30.36,337.3728,null,null,367.0116,162.9192,336.49199999999996,152.6628,213.12,162.0,242.7312,190.2,144.51,90.72,256.9116,116.4,224.4,95.28,112.8,314.16,114.0,183.42360000000002,213.60000000000002,182.4,297.6,null,342.6,267.84000000000003,220.8,368.76,238.79999999999998,230.04,160.56,94.79999999999998,null,null,170.04,269.1984,null,287.8333411764706,193.31000000000003,213.59279999999998,168.34,185.2549090909091,244.72189090909094,null,189.83232,139.26214285714283,167.52,183.21996,132.44307692307694,192.08,null,272.2608,273.06600000000003,163.92000000000002,324.4416,307.6044,94.80000000000001,213.76440000000002,332.052,137.01,126.4476,357.9552,123.6,185.7,175.8,106.92000000000002,214.26,245.4,201.6696,153.0,191.8296,202.44,174.60000000000002,137.40000000000003,229.5048,135.24,126.11999999999999,150.36,211.8,229.92000000000002,136.7832,206.40000000000003,163.62,84.0,125.4,296.754,400.6416,106.2,273.46680000000003,182.26919999999998,266.64,73.8,236.0568,148.71120000000002,321.84000000000003,53.400000000000006,174.4296,222.6,185.88,232.07999999999998,209.76000000000002,null,307.44,192.12,241.79160000000002,230.4,282.7584,201.3084,183.24,244.2528,235.4148,187.2,270.0,133.61999999999998,202.44,null,264.0,136.20000000000002,221.88000000000002,263.04,164.7096,102.6,242.81040000000002,299.568,217.2,174.9096,396.6,162.0,125.28,234.88200000000003,248.97839999999997,408.12,382.43999999999994,284.22839999999997,147.35999999999999,139.56,201.204,276.462,216.11999999999998,136.2,333.0,335.16,172.79999999999998,193.79999999999998,210.0,114.0,137.76,293.28,212.39999999999998,152.04,128.8476,315.85440000000006,159.48000000000002,186.24,319.824,273.2712,196.55999999999997,301.7436,274.56,291.0,292.56,256.44,null,267.6,352.3008,258.0,219.0,307.0584,159.0,346.2324,307.92,157.56,244.77720000000002,187.44,184.79999999999998,222.36,148.92,103.56,125.4,145.2,116.64,250.2,null,null,null,219.33599999999998,184.8,99.0,84.72,70.92,190.8,175.2,163.8,199.99439999999998,71.4,null,91.19999999999999,144.0,242.64,266.598,323.64,null,181.2,231.6,260.2416,352.3008,313.04639999999995,42.0,269.7756,244.32000000000002,302.322,160.44,202.69799999999998,199.20000000000002,328.44719999999995,398.64,147.72840000000002,146.64,344.7276,158.51999999999998,163.2,220.5,289.2,156.72,146.64000000000001,31.200000000000003,166.2,318.71999999999997,110.4,283.4364,230.27999999999997,165.36,172.44,117.0,297.59999999999997,88.56,288.552,246.15120000000002,198.71999999999997,167.04,377.15999999999997,196.8,241.20000000000002,178.79999999999998,110.4,98.4,193.68,77.4,212.28,187.62959999999998,294.48,272.4,223.152,207.0768,353.52,237.24,313.5864,86.64,240.6,null,295.2,200.93999999999997,226.44,100.32,239.4,217.78799999999995,235.416,264.228,178.68,186.012,314.7924,186.60000000000002,176.16000000000003,294.59999999999997,63.0,221.39999999999998,315.36,30.36,337.3728,null,219.87359999999998,391.4028,165.7608,389.76000000000005,221.67720000000003,213.12,174.0,257.64,190.20000000000002,148.998,136.2,256.9116,160.8,231.95999999999998,99.6,165.48,354.48,114.0,null,228.84,182.4,315.12,null,367.20000000000005,null,277.2,213.12,368.76,298.2,230.04,216.0,94.79999999999998,null,null,187.44,273.2712,null,null,231.75330000000002,180.34,196.23425454545452,283.43214545454543,null,195.21912000000003,142.84842857142857,186.87408,239.73510000000002,187.49336,188.01516,216.6331636363636,205.22,231.73753846153846,279.43629999999996],\"coloraxis\":\"coloraxis\",\"symbol\":\"circle\"},\"name\":\"\",\"showlegend\":false,\"type\":\"splom\"}],                        {\"template\":{\"data\":{\"bar\":[{\"error_x\":{\"color\":\"#2a3f5f\"},\"error_y\":{\"color\":\"#2a3f5f\"},\"marker\":{\"line\":{\"color\":\"#E5ECF6\",\"width\":0.5},\"pattern\":{\"fillmode\":\"overlay\",\"size\":10,\"solidity\":0.2}},\"type\":\"bar\"}],\"barpolar\":[{\"marker\":{\"line\":{\"color\":\"#E5ECF6\",\"width\":0.5},\"pattern\":{\"fillmode\":\"overlay\",\"size\":10,\"solidity\":0.2}},\"type\":\"barpolar\"}],\"carpet\":[{\"aaxis\":{\"endlinecolor\":\"#2a3f5f\",\"gridcolor\":\"white\",\"linecolor\":\"white\",\"minorgridcolor\":\"white\",\"startlinecolor\":\"#2a3f5f\"},\"baxis\":{\"endlinecolor\":\"#2a3f5f\",\"gridcolor\":\"white\",\"linecolor\":\"white\",\"minorgridcolor\":\"white\",\"startlinecolor\":\"#2a3f5f\"},\"type\":\"carpet\"}],\"choropleth\":[{\"colorbar\":{\"outlinewidth\":0,\"ticks\":\"\"},\"type\":\"choropleth\"}],\"contour\":[{\"colorbar\":{\"outlinewidth\":0,\"ticks\":\"\"},\"colorscale\":[[0.0,\"#0d0887\"],[0.1111111111111111,\"#46039f\"],[0.2222222222222222,\"#7201a8\"],[0.3333333333333333,\"#9c179e\"],[0.4444444444444444,\"#bd3786\"],[0.5555555555555556,\"#d8576b\"],[0.6666666666666666,\"#ed7953\"],[0.7777777777777778,\"#fb9f3a\"],[0.8888888888888888,\"#fdca26\"],[1.0,\"#f0f921\"]],\"type\":\"contour\"}],\"contourcarpet\":[{\"colorbar\":{\"outlinewidth\":0,\"ticks\":\"\"},\"type\":\"contourcarpet\"}],\"heatmap\":[{\"colorbar\":{\"outlinewidth\":0,\"ticks\":\"\"},\"colorscale\":[[0.0,\"#0d0887\"],[0.1111111111111111,\"#46039f\"],[0.2222222222222222,\"#7201a8\"],[0.3333333333333333,\"#9c179e\"],[0.4444444444444444,\"#bd3786\"],[0.5555555555555556,\"#d8576b\"],[0.6666666666666666,\"#ed7953\"],[0.7777777777777778,\"#fb9f3a\"],[0.8888888888888888,\"#fdca26\"],[1.0,\"#f0f921\"]],\"type\":\"heatmap\"}],\"heatmapgl\":[{\"colorbar\":{\"outlinewidth\":0,\"ticks\":\"\"},\"colorscale\":[[0.0,\"#0d0887\"],[0.1111111111111111,\"#46039f\"],[0.2222222222222222,\"#7201a8\"],[0.3333333333333333,\"#9c179e\"],[0.4444444444444444,\"#bd3786\"],[0.5555555555555556,\"#d8576b\"],[0.6666666666666666,\"#ed7953\"],[0.7777777777777778,\"#fb9f3a\"],[0.8888888888888888,\"#fdca26\"],[1.0,\"#f0f921\"]],\"type\":\"heatmapgl\"}],\"histogram\":[{\"marker\":{\"pattern\":{\"fillmode\":\"overlay\",\"size\":10,\"solidity\":0.2}},\"type\":\"histogram\"}],\"histogram2d\":[{\"colorbar\":{\"outlinewidth\":0,\"ticks\":\"\"},\"colorscale\":[[0.0,\"#0d0887\"],[0.1111111111111111,\"#46039f\"],[0.2222222222222222,\"#7201a8\"],[0.3333333333333333,\"#9c179e\"],[0.4444444444444444,\"#bd3786\"],[0.5555555555555556,\"#d8576b\"],[0.6666666666666666,\"#ed7953\"],[0.7777777777777778,\"#fb9f3a\"],[0.8888888888888888,\"#fdca26\"],[1.0,\"#f0f921\"]],\"type\":\"histogram2d\"}],\"histogram2dcontour\":[{\"colorbar\":{\"outlinewidth\":0,\"ticks\":\"\"},\"colorscale\":[[0.0,\"#0d0887\"],[0.1111111111111111,\"#46039f\"],[0.2222222222222222,\"#7201a8\"],[0.3333333333333333,\"#9c179e\"],[0.4444444444444444,\"#bd3786\"],[0.5555555555555556,\"#d8576b\"],[0.6666666666666666,\"#ed7953\"],[0.7777777777777778,\"#fb9f3a\"],[0.8888888888888888,\"#fdca26\"],[1.0,\"#f0f921\"]],\"type\":\"histogram2dcontour\"}],\"mesh3d\":[{\"colorbar\":{\"outlinewidth\":0,\"ticks\":\"\"},\"type\":\"mesh3d\"}],\"parcoords\":[{\"line\":{\"colorbar\":{\"outlinewidth\":0,\"ticks\":\"\"}},\"type\":\"parcoords\"}],\"pie\":[{\"automargin\":true,\"type\":\"pie\"}],\"scatter\":[{\"marker\":{\"colorbar\":{\"outlinewidth\":0,\"ticks\":\"\"}},\"type\":\"scatter\"}],\"scatter3d\":[{\"line\":{\"colorbar\":{\"outlinewidth\":0,\"ticks\":\"\"}},\"marker\":{\"colorbar\":{\"outlinewidth\":0,\"ticks\":\"\"}},\"type\":\"scatter3d\"}],\"scattercarpet\":[{\"marker\":{\"colorbar\":{\"outlinewidth\":0,\"ticks\":\"\"}},\"type\":\"scattercarpet\"}],\"scattergeo\":[{\"marker\":{\"colorbar\":{\"outlinewidth\":0,\"ticks\":\"\"}},\"type\":\"scattergeo\"}],\"scattergl\":[{\"marker\":{\"colorbar\":{\"outlinewidth\":0,\"ticks\":\"\"}},\"type\":\"scattergl\"}],\"scattermapbox\":[{\"marker\":{\"colorbar\":{\"outlinewidth\":0,\"ticks\":\"\"}},\"type\":\"scattermapbox\"}],\"scatterpolar\":[{\"marker\":{\"colorbar\":{\"outlinewidth\":0,\"ticks\":\"\"}},\"type\":\"scatterpolar\"}],\"scatterpolargl\":[{\"marker\":{\"colorbar\":{\"outlinewidth\":0,\"ticks\":\"\"}},\"type\":\"scatterpolargl\"}],\"scatterternary\":[{\"marker\":{\"colorbar\":{\"outlinewidth\":0,\"ticks\":\"\"}},\"type\":\"scatterternary\"}],\"surface\":[{\"colorbar\":{\"outlinewidth\":0,\"ticks\":\"\"},\"colorscale\":[[0.0,\"#0d0887\"],[0.1111111111111111,\"#46039f\"],[0.2222222222222222,\"#7201a8\"],[0.3333333333333333,\"#9c179e\"],[0.4444444444444444,\"#bd3786\"],[0.5555555555555556,\"#d8576b\"],[0.6666666666666666,\"#ed7953\"],[0.7777777777777778,\"#fb9f3a\"],[0.8888888888888888,\"#fdca26\"],[1.0,\"#f0f921\"]],\"type\":\"surface\"}],\"table\":[{\"cells\":{\"fill\":{\"color\":\"#EBF0F8\"},\"line\":{\"color\":\"white\"}},\"header\":{\"fill\":{\"color\":\"#C8D4E3\"},\"line\":{\"color\":\"white\"}},\"type\":\"table\"}]},\"layout\":{\"annotationdefaults\":{\"arrowcolor\":\"#2a3f5f\",\"arrowhead\":0,\"arrowwidth\":1},\"autotypenumbers\":\"strict\",\"coloraxis\":{\"colorbar\":{\"outlinewidth\":0,\"ticks\":\"\"}},\"colorscale\":{\"diverging\":[[0,\"#8e0152\"],[0.1,\"#c51b7d\"],[0.2,\"#de77ae\"],[0.3,\"#f1b6da\"],[0.4,\"#fde0ef\"],[0.5,\"#f7f7f7\"],[0.6,\"#e6f5d0\"],[0.7,\"#b8e186\"],[0.8,\"#7fbc41\"],[0.9,\"#4d9221\"],[1,\"#276419\"]],\"sequential\":[[0.0,\"#0d0887\"],[0.1111111111111111,\"#46039f\"],[0.2222222222222222,\"#7201a8\"],[0.3333333333333333,\"#9c179e\"],[0.4444444444444444,\"#bd3786\"],[0.5555555555555556,\"#d8576b\"],[0.6666666666666666,\"#ed7953\"],[0.7777777777777778,\"#fb9f3a\"],[0.8888888888888888,\"#fdca26\"],[1.0,\"#f0f921\"]],\"sequentialminus\":[[0.0,\"#0d0887\"],[0.1111111111111111,\"#46039f\"],[0.2222222222222222,\"#7201a8\"],[0.3333333333333333,\"#9c179e\"],[0.4444444444444444,\"#bd3786\"],[0.5555555555555556,\"#d8576b\"],[0.6666666666666666,\"#ed7953\"],[0.7777777777777778,\"#fb9f3a\"],[0.8888888888888888,\"#fdca26\"],[1.0,\"#f0f921\"]]},\"colorway\":[\"#636efa\",\"#EF553B\",\"#00cc96\",\"#ab63fa\",\"#FFA15A\",\"#19d3f3\",\"#FF6692\",\"#B6E880\",\"#FF97FF\",\"#FECB52\"],\"font\":{\"color\":\"#2a3f5f\"},\"geo\":{\"bgcolor\":\"white\",\"lakecolor\":\"white\",\"landcolor\":\"#E5ECF6\",\"showlakes\":true,\"showland\":true,\"subunitcolor\":\"white\"},\"hoverlabel\":{\"align\":\"left\"},\"hovermode\":\"closest\",\"mapbox\":{\"style\":\"light\"},\"paper_bgcolor\":\"white\",\"plot_bgcolor\":\"#E5ECF6\",\"polar\":{\"angularaxis\":{\"gridcolor\":\"white\",\"linecolor\":\"white\",\"ticks\":\"\"},\"bgcolor\":\"#E5ECF6\",\"radialaxis\":{\"gridcolor\":\"white\",\"linecolor\":\"white\",\"ticks\":\"\"}},\"scene\":{\"xaxis\":{\"backgroundcolor\":\"#E5ECF6\",\"gridcolor\":\"white\",\"gridwidth\":2,\"linecolor\":\"white\",\"showbackground\":true,\"ticks\":\"\",\"zerolinecolor\":\"white\"},\"yaxis\":{\"backgroundcolor\":\"#E5ECF6\",\"gridcolor\":\"white\",\"gridwidth\":2,\"linecolor\":\"white\",\"showbackground\":true,\"ticks\":\"\",\"zerolinecolor\":\"white\"},\"zaxis\":{\"backgroundcolor\":\"#E5ECF6\",\"gridcolor\":\"white\",\"gridwidth\":2,\"linecolor\":\"white\",\"showbackground\":true,\"ticks\":\"\",\"zerolinecolor\":\"white\"}},\"shapedefaults\":{\"line\":{\"color\":\"#2a3f5f\"}},\"ternary\":{\"aaxis\":{\"gridcolor\":\"white\",\"linecolor\":\"white\",\"ticks\":\"\"},\"baxis\":{\"gridcolor\":\"white\",\"linecolor\":\"white\",\"ticks\":\"\"},\"bgcolor\":\"#E5ECF6\",\"caxis\":{\"gridcolor\":\"white\",\"linecolor\":\"white\",\"ticks\":\"\"}},\"title\":{\"x\":0.05},\"xaxis\":{\"automargin\":true,\"gridcolor\":\"white\",\"linecolor\":\"white\",\"ticks\":\"\",\"title\":{\"standoff\":15},\"zerolinecolor\":\"white\",\"zerolinewidth\":2},\"yaxis\":{\"automargin\":true,\"gridcolor\":\"white\",\"linecolor\":\"white\",\"ticks\":\"\",\"title\":{\"standoff\":15},\"zerolinecolor\":\"white\",\"zerolinewidth\":2}}},\"coloraxis\":{\"colorbar\":{\"title\":{\"text\":\"Gastos por familia(\\u20ac/ano)\"}},\"colorscale\":[[0.0,\"#0d0887\"],[0.1111111111111111,\"#46039f\"],[0.2222222222222222,\"#7201a8\"],[0.3333333333333333,\"#9c179e\"],[0.4444444444444444,\"#bd3786\"],[0.5555555555555556,\"#d8576b\"],[0.6666666666666666,\"#ed7953\"],[0.7777777777777778,\"#fb9f3a\"],[0.8888888888888888,\"#fdca26\"],[1.0,\"#f0f921\"]]},\"legend\":{\"tracegroupgap\":0},\"margin\":{\"t\":60},\"dragmode\":\"select\"},                        {\"responsive\": true}                    ).then(function(){\n",
              "                            \n",
              "var gd = document.getElementById('3f104f21-585e-4aad-a24d-083fff3075d9');\n",
              "var x = new MutationObserver(function (mutations, observer) {{\n",
              "        var display = window.getComputedStyle(gd).display;\n",
              "        if (!display || display === 'none') {{\n",
              "            console.log([gd, 'removed!']);\n",
              "            Plotly.purge(gd);\n",
              "            observer.disconnect();\n",
              "        }}\n",
              "}});\n",
              "\n",
              "// Listen for the removal of the full notebook cells\n",
              "var notebookContainer = gd.closest('#notebook-container');\n",
              "if (notebookContainer) {{\n",
              "    x.observe(notebookContainer, {childList: true});\n",
              "}}\n",
              "\n",
              "// Listen for the clearing of the current output cell\n",
              "var outputEl = gd.closest('.output');\n",
              "if (outputEl) {{\n",
              "    x.observe(outputEl, {childList: true});\n",
              "}}\n",
              "\n",
              "                        })                };                            </script>        </div>\n",
              "</body>\n",
              "</html>"
            ]
          },
          "metadata": {}
        }
      ]
    },
    {
      "cell_type": "code",
      "source": [
        "sns.set_theme(style=\"whitegrid\")\n",
        "cmap = sns.cubehelix_palette(rot=-.2, as_cmap=True)\n",
        "sns.relplot(data = data, kind = 'line')"
      ],
      "metadata": {
        "colab": {
          "base_uri": "https://localhost:8080/",
          "height": 382
        },
        "id": "72Q3dWJCAVId",
        "outputId": "0c0ad56c-d4a1-4a9e-bae0-01b02d7bcda3"
      },
      "execution_count": null,
      "outputs": [
        {
          "output_type": "execute_result",
          "data": {
            "text/plain": [
              "<seaborn.axisgrid.FacetGrid at 0x7f6868cf63d0>"
            ]
          },
          "metadata": {},
          "execution_count": 150
        },
        {
          "output_type": "display_data",
          "data": {
            "text/plain": [
              "<Figure size 781.975x360 with 1 Axes>"
            ],
            "image/png": "[encoded data removed]"
          },
          "metadata": {}
        }
      ]
    },
    {
      "cell_type": "markdown",
      "source": [
        "# Pré-processamento\n",
        "\n",
        "É uma fase essencial que precede a realização da modelagem,uma vez que se o conjunto de dados não está preparado, não conseguiremos alcançar bons resultados, tornando as análises e modelagens não confiáveis. Portanto, um correto pré-processamento é fundamental para garantir a qualidade e confiabilidade das nossas conclusões.\n",
        "\n",
        "Na fase de exploração chegamos a fazer algumas modificações ao dataset, nomeadamente eliminar algumas features e apagar registos com mais de dois valores nulos. \n",
        "\n",
        "Nesta etapa vamos tornar o nosso conjunto de dados aptos para a utilização em algoritmos de machine learning.\n",
        "\n",
        "O nosso primeiro passo foi procurar outliers dentro do nosso dataset, os calculos efectuados acabaram por demonstrar que não temos nenhum outlier, como podemos observar na célula abaixo. \n"
      ],
      "metadata": {
        "id": "VOL1ZqXPygLl"
      }
    },
    {
      "cell_type": "code",
      "source": [
        "def outliers(x):\n",
        "        q1, q3 = np.percentile(x, [25, 75])\n",
        "        iqr = q3 - q1\n",
        "        lower_bound = q1 - (iqr * 1.5)\n",
        "        upper_bound = q3 + (iqr * 1.5)\n",
        "        return (x < lower_bound) | (x > upper_bound)\n",
        "data[outliers(data.iloc[:,2:])].count()"
      ],
      "metadata": {
        "colab": {
          "base_uri": "https://localhost:8080/"
        },
        "id": "U7r34Q-Zy0bI",
        "outputId": "3b374b2f-b078-45d9-8cbc-baf760e4b809"
      },
      "execution_count": null,
      "outputs": [
        {
          "output_type": "execute_result",
          "data": {
            "text/plain": [
              "Unidade administrativa                                               0\n",
              "Consumo de água autorizado na rede pública (m3/habitante servido)    0\n",
              "Acessibilidade física do serviço de abastecimento de água (%)        0\n",
              "Destino adequado das águas residuais urbanas (%)                     0\n",
              "Resíduos urbanos recolhidos (ton/habitante)                          0\n",
              "Resíduos de embalagens recolhidos seletivamente (ton/habitante)      0\n",
              "Gastos por familia(€/ano)                                            0\n",
              "dtype: int64"
            ]
          },
          "metadata": {},
          "execution_count": 151
        }
      ]
    },
    {
      "cell_type": "markdown",
      "source": [
        "## Tratar valores nulos e inconsistentes\n",
        "\n",
        "Para o tratamento dos valores nulos, usamos dois tipos de abordagem, para o Resíduos urbanos recolhidos (ton/habitante) decidimos eliminar todos os registos, onde esta feature estava vazia, optamos por esta abordagem porque tínhamos apenas dois registos com valores nulos. Para as features com valores nulos restantes acabamos por substituir pela média, optamos por está opção pois todas as features restantes com exceção do Gastos por familia(€/ano), tinham um variação muito baixa."
      ],
      "metadata": {
        "id": "1Zz1T8RpcT5A"
      }
    },
    {
      "cell_type": "code",
      "source": [
        "#data.index;"
      ],
      "metadata": {
        "id": "ry6Q8qcwWi2O"
      },
      "execution_count": null,
      "outputs": []
    },
    {
      "cell_type": "code",
      "source": [
        "#data = data.drop(data[data['Resíduos urbanos recolhidos (ton/habitante)'].isnull()].index)\n",
        "data = data.drop([ 119, 565], axis=0)\n",
        "data['Gastos por familia(€/ano)'].fillna(data['Gastos por familia(€/ano)'].mean(), inplace = True)\n",
        "data['Consumo de água autorizado na rede pública (m3/habitante servido)'].fillna(data['Consumo de água autorizado na rede pública (m3/habitante servido)'].mean(),inplace=True)\n",
        "data['Acessibilidade física do serviço de abastecimento de água (%)'].fillna(data['Acessibilidade física do serviço de abastecimento de água (%)'].mean(),inplace=True)#fillna(method='ffill',inplace=True)\n",
        "data['Destino adequado das águas residuais urbanas (%)'].fillna(data['Destino adequado das águas residuais urbanas (%)'].mean(),inplace=True)"
      ],
      "metadata": {
        "id": "7V3wuyvw_3fk"
      },
      "execution_count": null,
      "outputs": []
    },
    {
      "cell_type": "code",
      "source": [
        "data.isnull().sum()"
      ],
      "metadata": {
        "colab": {
          "base_uri": "https://localhost:8080/"
        },
        "id": "UAnhIOR4UScP",
        "outputId": "9e7305f6-c39a-4f34-e813-daeabce503b7"
      },
      "execution_count": null,
      "outputs": [
        {
          "output_type": "execute_result",
          "data": {
            "text/plain": [
              "Unidade administrativa                                               0\n",
              "Consumo de água autorizado na rede pública (m3/habitante servido)    0\n",
              "Acessibilidade física do serviço de abastecimento de água (%)        0\n",
              "Destino adequado das águas residuais urbanas (%)                     0\n",
              "Resíduos urbanos recolhidos (ton/habitante)                          0\n",
              "Resíduos de embalagens recolhidos seletivamente (ton/habitante)      0\n",
              "Gastos por familia(€/ano)                                            0\n",
              "dtype: int64"
            ]
          },
          "metadata": {},
          "execution_count": 154
        }
      ]
    },
    {
      "cell_type": "markdown",
      "source": [
        "## Divisão entre previsores e Label\n",
        "\n",
        "Nesta etapa dividimos nosso conjunto de dados em dois, uma variável recebeu o target e a outra os atributos previsores."
      ],
      "metadata": {
        "id": "Tv-XbdqrPlgY"
      }
    },
    {
      "cell_type": "code",
      "source": [
        "X_data = data.iloc[:,1:]#.values\n",
        "#X_data = np.concatenate((cat, X_data), axis=1)\n",
        "X_data.shape"
      ],
      "metadata": {
        "colab": {
          "base_uri": "https://localhost:8080/"
        },
        "id": "NM_qYvGYljbN",
        "outputId": "68a24f7f-0a46-4cde-c51b-63970a548b71"
      },
      "execution_count": null,
      "outputs": [
        {
          "output_type": "execute_result",
          "data": {
            "text/plain": [
              "(557, 6)"
            ]
          },
          "metadata": {},
          "execution_count": 155
        }
      ]
    },
    {
      "cell_type": "code",
      "source": [
        "Y_data = data.iloc[:,0]#.values\n",
        "Y_data.shape"
      ],
      "metadata": {
        "colab": {
          "base_uri": "https://localhost:8080/"
        },
        "id": "SoYnuAMCwblS",
        "outputId": "de7eb48a-81e0-4900-ea69-08825f269643"
      },
      "execution_count": null,
      "outputs": [
        {
          "output_type": "execute_result",
          "data": {
            "text/plain": [
              "(557,)"
            ]
          },
          "metadata": {},
          "execution_count": 156
        }
      ]
    },
    {
      "cell_type": "markdown",
      "source": [
        "## Implementando o Over Sampling\n",
        "\n",
        "Como tínhamos observado na análise exploratória, o nosso target estava desbalanceado, isso pode provocar erros na analise, fazendo com que as nossas previsões tendam a ser classificadas como pertencentes a classe com maior número de observações, deste modo teríamos um algoritmo enviesado.\n",
        "Para resolvermos esse problema, optaremos pela abordagem over-sampling, essa abordagem ela equaliza as classes aumentando a quantidade de observações da classe minoritária. Para a implementação do over-sampling utilizaremos a função SMOTE do pacote imblearn.\n",
        "\n"
      ],
      "metadata": {
        "id": "U8vyvwjasocJ"
      }
    },
    {
      "cell_type": "code",
      "source": [
        "smt = SMOTE()"
      ],
      "metadata": {
        "id": "Me3sD3y-sv8s"
      },
      "execution_count": null,
      "outputs": []
    },
    {
      "cell_type": "code",
      "source": [
        "X_data, Y_data = smt.fit_resample(X_data,Y_data)"
      ],
      "metadata": {
        "id": "J22-sDlls3bI"
      },
      "execution_count": null,
      "outputs": []
    },
    {
      "cell_type": "code",
      "source": [
        "sns.countplot(x = Y_data);"
      ],
      "metadata": {
        "colab": {
          "base_uri": "https://localhost:8080/",
          "height": 370
        },
        "id": "0L7t5dY-wITf",
        "outputId": "f53b3b31-19a5-4ae2-f722-b5c774d0f3ba"
      },
      "execution_count": null,
      "outputs": [
        {
          "output_type": "display_data",
          "data": {
            "text/plain": [
              "<Figure size 576x396 with 1 Axes>"
            ],
            "image/png": "[encoded data removed]"
          },
          "metadata": {}
        }
      ]
    },
    {
      "cell_type": "code",
      "source": [
        "X_data.shape, Y_data.shape"
      ],
      "metadata": {
        "colab": {
          "base_uri": "https://localhost:8080/"
        },
        "id": "ctzxErrbxTy_",
        "outputId": "1d1a0e7b-0f80-4d2f-a847-05db0501eea4"
      },
      "execution_count": null,
      "outputs": [
        {
          "output_type": "execute_result",
          "data": {
            "text/plain": [
              "((1052, 6), (1052,))"
            ]
          },
          "metadata": {},
          "execution_count": 160
        }
      ]
    },
    {
      "cell_type": "markdown",
      "source": [
        "## Transformar a nossa label(target) de valores categoricos para numericos\n",
        "\n",
        "O nosso dataset nesta fase têm apenas uma feature com valor categórico, por se tratar do nosso target, para transformação desta feature optamos por usar o LabelEncoder do scit-learning.  \n",
        "\n",
        "\n"
      ],
      "metadata": {
        "id": "Z7HHn2lX8m_4"
      }
    },
    {
      "cell_type": "code",
      "source": [
        "label_encoder_teste = LabelEncoder()"
      ],
      "metadata": {
        "id": "IEBWp-UIsOPY"
      },
      "execution_count": null,
      "outputs": []
    },
    {
      "cell_type": "code",
      "source": [
        "Y_data = label_encoder_teste.fit_transform(Y_data)\n",
        "Y_data.shape"
      ],
      "metadata": {
        "colab": {
          "base_uri": "https://localhost:8080/"
        },
        "id": "G_fw481aCC3g",
        "outputId": "421edd2e-25ab-4e5b-e1a8-71bf1e53178b"
      },
      "execution_count": null,
      "outputs": [
        {
          "output_type": "execute_result",
          "data": {
            "text/plain": [
              "(1052,)"
            ]
          },
          "metadata": {},
          "execution_count": 162
        }
      ]
    },
    {
      "cell_type": "code",
      "source": [
        "Y_data"
      ],
      "metadata": {
        "colab": {
          "base_uri": "https://localhost:8080/"
        },
        "id": "Liylj-sCuE9c",
        "outputId": "60f01fa8-8ea1-4374-e00c-a92b6cf915f1"
      },
      "execution_count": null,
      "outputs": [
        {
          "output_type": "execute_result",
          "data": {
            "text/plain": [
              "array([1, 1, 1, ..., 0, 0, 0])"
            ]
          },
          "metadata": {},
          "execution_count": 163
        }
      ]
    },
    {
      "cell_type": "markdown",
      "source": [
        "## Padronizacao dos dados\n",
        "\n",
        "Os algoritmos de machine learning, criam os seus modelos baseados em cálculos estatísticos realizados com os valores de entrada, logo se usarmos dados em escalas diferentes os nossos algoritmos podem de maneira errónea atribuir maior peso a valores que estejam numa escala maior, deste modo prejudicando a confiabilidade do nosso modelo. Por está razão optamos por padronizar os dados.\n",
        "\n",
        "A abordagem escolhida para a padronização foi o MinMaxScaler.\n",
        "\n"
      ],
      "metadata": {
        "id": "g820JfctKRy8"
      }
    },
    {
      "cell_type": "code",
      "source": [
        "scaler = MinMaxScaler()"
      ],
      "metadata": {
        "id": "_Um_rmbbKX3V"
      },
      "execution_count": null,
      "outputs": []
    },
    {
      "cell_type": "code",
      "source": [
        "X_data = scaler.fit_transform(X_data.values)\n",
        "X_data"
      ],
      "metadata": {
        "colab": {
          "base_uri": "https://localhost:8080/"
        },
        "id": "qRFGC5VRLOc8",
        "outputId": "f1f9f206-2ed8-452f-92f8-253a8163e20e"
      },
      "execution_count": null,
      "outputs": [
        {
          "output_type": "execute_result",
          "data": {
            "text/plain": [
              "array([[0.19730815, 0.88610226, 1.        , 0.16360703, 0.25971139,\n",
              "        0.62503177],\n",
              "       [0.21430891, 0.995161  , 1.        , 0.12126302, 0.16592005,\n",
              "        0.52160102],\n",
              "       [0.19630939, 0.89973461, 0.63917526, 0.13573786, 0.10526374,\n",
              "        0.35355781],\n",
              "       ...,\n",
              "       [0.15541167, 0.92386502, 0.97862698, 0.18910364, 0.21753951,\n",
              "        0.67739584],\n",
              "       [0.36014271, 0.89765832, 0.91236555, 0.30167289, 0.23549563,\n",
              "        0.35706418],\n",
              "       [0.21430891, 0.95244263, 0.97531153, 0.15991281, 0.15329552,\n",
              "        0.43069466]])"
            ]
          },
          "metadata": {},
          "execution_count": 165
        }
      ]
    },
    {
      "cell_type": "code",
      "source": [
        "#Y_data = scaler.fit_transform(Y_data.reshape(-1,1))"
      ],
      "metadata": {
        "id": "cUivx0l1ZFJ6"
      },
      "execution_count": null,
      "outputs": []
    },
    {
      "cell_type": "markdown",
      "source": [
        "##Divisao entre dados de Treino e Teste\n",
        "\n",
        "Dividimos os nossos dados recorrendo ao train_test_split do scit-learning, por temos um conjunto de dados relativamnete pequeno, optamos por definir 25% dos dados para teste."
      ],
      "metadata": {
        "id": "WHoiAn3JPr-e"
      }
    },
    {
      "cell_type": "code",
      "source": [
        "X_data_train, X_data_test, y_data_train, y_data_test = train_test_split(X_data, Y_data, test_size = 0.25, random_state = 0)"
      ],
      "metadata": {
        "id": "Cs0J6w7DP0ew"
      },
      "execution_count": null,
      "outputs": []
    },
    {
      "cell_type": "code",
      "source": [
        "X_data_train.shape,y_data_train.shape"
      ],
      "metadata": {
        "colab": {
          "base_uri": "https://localhost:8080/"
        },
        "id": "_tmElHGzQFyB",
        "outputId": "10b29713-85e5-445c-a728-6d2817920f10"
      },
      "execution_count": null,
      "outputs": [
        {
          "output_type": "execute_result",
          "data": {
            "text/plain": [
              "((789, 6), (789,))"
            ]
          },
          "metadata": {},
          "execution_count": 168
        }
      ]
    },
    {
      "cell_type": "code",
      "source": [
        "X_data_test.shape,y_data_test.shape"
      ],
      "metadata": {
        "colab": {
          "base_uri": "https://localhost:8080/"
        },
        "id": "eoV4FNBIRlNm",
        "outputId": "bf7f73a6-2053-47b2-f7b5-4fa76dd971f9"
      },
      "execution_count": null,
      "outputs": [
        {
          "output_type": "execute_result",
          "data": {
            "text/plain": [
              "((263, 6), (263,))"
            ]
          },
          "metadata": {},
          "execution_count": 169
        }
      ]
    },
    {
      "cell_type": "markdown",
      "source": [
        "# Mineração de dados\n",
        "\n",
        "Nesta etapa submetemos os nossos dados aos algoritmos para gerar os nossos modelos com os dados de treino.\n",
        "\n",
        "Decidimos nessa etapa gerar os modelos de duas formas, uma usando os algoritmos de machine learning com os parâmetros padrão e outra recorrendo ao gridSearchCV para selecionar os melhores Hiper parâmetros para geração do modelo. Para a busca de Hiper parâmetros, definimos 10 folds para o cross-validation. \n",
        "\n",
        "Nas células abaixo podemos observar a geração dos modelos para cada algoritmo.\n",
        "\n"
      ],
      "metadata": {
        "id": "AFWbDo8f2GZS"
      }
    },
    {
      "cell_type": "code",
      "source": [
        "def scoreM(model):\n",
        "      print(model)\n",
        "      previsoes = model.predict(X_data_test)\n",
        "      print('resultado completos')\n",
        "      print(classification_report(y_data_test, previsoes))\n",
        "      print(' ')\n",
        "      print(\"    acurácia com dados de treino:\", model.score(X_data_train, y_data_train))\n",
        "      print('   acurácia com dados de teste:',accuracy_score(y_data_test, previsoes))\n"
      ],
      "metadata": {
        "id": "kxXknds69lV9"
      },
      "execution_count": null,
      "outputs": []
    },
    {
      "cell_type": "code",
      "source": [
        "models = []\n",
        "def see_models(): \n",
        "    for model in models:\n",
        "        print()\n",
        "        print(model)\n",
        "        previsoes = model.predict(X_data_test)\n",
        "        print('resultado completos')\n",
        "        print(classification_report(y_data_test, previsoes))\n",
        "        print(' ')\n",
        "        print(\"    acurácia com dados de teste:\", model.score(X_data_train, y_data_train))\n",
        "        print('   acurácia com dados de treino:',accuracy_score(y_data_test, previsoes))\n",
        "        print(' ')\n",
        "def hiperparametros(griSearch):\n",
        "  print('melhores hiperparâmetros:')\n",
        "  print(griSearch.best_params_)"
      ],
      "metadata": {
        "id": "VFyVsHEsGjBn"
      },
      "execution_count": null,
      "outputs": []
    },
    {
      "cell_type": "markdown",
      "source": [
        "## Naive Bayes"
      ],
      "metadata": {
        "id": "_NVkTtjQXLY8"
      }
    },
    {
      "cell_type": "code",
      "source": [
        "naive = GaussianNB()\n",
        "models.append(naive.fit(X_data_train, y_data_train))"
      ],
      "metadata": {
        "id": "y53E_MNWXObb"
      },
      "execution_count": null,
      "outputs": []
    },
    {
      "cell_type": "markdown",
      "source": [
        "## Árvores de decisão"
      ],
      "metadata": {
        "id": "-iWTQvk69eTk"
      }
    },
    {
      "cell_type": "code",
      "source": [
        "DTree = DecisionTreeClassifier(criterion='entropy')\n",
        "models.append(DTree.fit(X_data_train, y_data_train))"
      ],
      "metadata": {
        "id": "gVIthQwt9ijw"
      },
      "execution_count": null,
      "outputs": []
    },
    {
      "cell_type": "markdown",
      "source": [
        "## Ensambles"
      ],
      "metadata": {
        "id": "Z0diSKpjGxmr"
      }
    },
    {
      "cell_type": "code",
      "source": [
        "classifier = RandomForestClassifier()#max_features = 0.5, n_estimators = 1000, n_jobs = -1, verbose = 1\n",
        "models.append(classifier.fit(X_data_train, y_data_train))\n",
        "\n",
        "classifier = AdaBoostClassifier()\n",
        "models.append(classifier.fit(X_data_train, y_data_train))\n",
        "\n",
        "classifier = GradientBoostingClassifier()\n",
        "models.append(classifier.fit(X_data_train, y_data_train))"
      ],
      "metadata": {
        "id": "mqvHNdE4GJj0"
      },
      "execution_count": null,
      "outputs": []
    },
    {
      "cell_type": "markdown",
      "source": [
        "## SVM"
      ],
      "metadata": {
        "id": "a_xj3dnOOLpm"
      }
    },
    {
      "cell_type": "code",
      "source": [
        "svm = SVC()\n",
        "models.append(svm.fit(X_data_train, y_data_train))"
      ],
      "metadata": {
        "id": "ocbke748OKje"
      },
      "execution_count": null,
      "outputs": []
    },
    {
      "cell_type": "markdown",
      "source": [
        "## Rede Neuronal"
      ],
      "metadata": {
        "id": "JQVR8GtcDVJF"
      }
    },
    {
      "cell_type": "code",
      "source": [
        "rn = MLPClassifier(max_iter=1500)\n",
        "models.append(rn.fit(X_data_train, y_data_train))"
      ],
      "metadata": {
        "id": "_fMAYrcvDg1W",
        "colab": {
          "base_uri": "https://localhost:8080/"
        },
        "outputId": "c4af86b7-8492-450f-d225-df1e51d13206"
      },
      "execution_count": null,
      "outputs": [
        {
          "output_type": "stream",
          "name": "stderr",
          "text": [
            "/usr/local/lib/python3.7/dist-packages/sklearn/neural_network/_multilayer_perceptron.py:696: ConvergenceWarning:\n",
            "\n",
            "Stochastic Optimizer: Maximum iterations (1500) reached and the optimization hasn't converged yet.\n",
            "\n"
          ]
        }
      ]
    },
    {
      "cell_type": "markdown",
      "source": [
        "## Otimização com  base da seleção dos melhores hiperparâmetros\n",
        "\n"
      ],
      "metadata": {
        "id": "_Q4UDFEpOkyt"
      }
    },
    {
      "cell_type": "markdown",
      "source": [
        "### Árvore de decisão"
      ],
      "metadata": {
        "id": "PqAeYY7VQELl"
      }
    },
    {
      "cell_type": "code",
      "source": [
        "parametros_AT = {'criterion': ['gini', 'entropy'],\n",
        "              'splitter': ['best', 'random'],\n",
        "              'min_samples_split': [2, 5, 10],\n",
        "              'min_samples_leaf': [1, 5, 10]}"
      ],
      "metadata": {
        "id": "F8HdG1ZoQoNv"
      },
      "execution_count": null,
      "outputs": []
    },
    {
      "cell_type": "code",
      "source": [
        "griSearchAT = GridSearchCV(estimator=DecisionTreeClassifier(), param_grid=parametros_AT,cv=10)\n",
        "#griSearchAT.fit(X_data_train, y_data_train)\n",
        "models.append(griSearchAT.fit(X_data_train, y_data_train))\n",
        "hiperparametros(griSearchAT)"
      ],
      "metadata": {
        "colab": {
          "base_uri": "https://localhost:8080/"
        },
        "id": "IKpIDGw_k7Mz",
        "outputId": "8f3e9301-7c7e-4522-8ede-6a5eb89d7fe4"
      },
      "execution_count": null,
      "outputs": [
        {
          "output_type": "stream",
          "name": "stdout",
          "text": [
            "melhores hiperparâmetros:\n",
            "{'criterion': 'gini', 'min_samples_leaf': 1, 'min_samples_split': 2, 'splitter': 'best'}\n"
          ]
        }
      ]
    },
    {
      "cell_type": "markdown",
      "source": [
        "### Ensambles"
      ],
      "metadata": {
        "id": "pTFS2LKiSS9V"
      }
    },
    {
      "cell_type": "markdown",
      "source": [
        "#### Random Forest"
      ],
      "metadata": {
        "id": "5lhmFlWbScMG"
      }
    },
    {
      "cell_type": "code",
      "source": [
        "parametros_RF = {'n_estimators':[10,20,100],'max_features':[0.5,1.0],'criterion' : ['gini','entropy'],'max_depth': [None,100,200]}"
      ],
      "metadata": {
        "id": "7R-H5JfKS1MY"
      },
      "execution_count": null,
      "outputs": []
    },
    {
      "cell_type": "code",
      "source": [
        "griSearchRF = GridSearchCV(estimator=RandomForestClassifier(), param_grid=parametros_RF,cv=10)\n",
        "#griSearchRF.fit(X_data_train, y_data_train)\n",
        "models.append(griSearchRF.fit(X_data_train, y_data_train))\n",
        "hiperparametros(griSearchRF)"
      ],
      "metadata": {
        "colab": {
          "base_uri": "https://localhost:8080/"
        },
        "id": "FmqMUCAoS1Dw",
        "outputId": "65c8dc56-5246-46ce-b58c-43b833a19b1e"
      },
      "execution_count": null,
      "outputs": [
        {
          "output_type": "stream",
          "name": "stdout",
          "text": [
            "melhores hiperparâmetros:\n",
            "{'criterion': 'entropy', 'max_depth': None, 'max_features': 0.5, 'n_estimators': 10}\n"
          ]
        }
      ]
    },
    {
      "cell_type": "markdown",
      "source": [
        "#### AdaBoost"
      ],
      "metadata": {
        "id": "LLkSg2gMSfr1"
      }
    },
    {
      "cell_type": "code",
      "source": [
        "parametros_AB = {'n_estimators':[500,1000,2000],'learning_rate':[.001,0.01,.1],'algorithm' : ['SAMME','SAMME.R']}"
      ],
      "metadata": {
        "id": "0mgzjzJdS2cp"
      },
      "execution_count": null,
      "outputs": []
    },
    {
      "cell_type": "code",
      "source": [
        "griSearchAB = GridSearchCV(estimator=AdaBoostClassifier(), param_grid=parametros_AB,cv=10)\n",
        "#griSearchAB.fit(X_data, Y_data)\n",
        "models.append(griSearchAB.fit(X_data_train, y_data_train))\n",
        "hiperparametros(griSearchAB)\n",
        "# luche_param = griSearchAT.best_params_\n",
        "# luche_result = griSearchAT.best_score_\n",
        "# print('melhores hiperparâmetros:')\n",
        "# print(luche_param)\n",
        "# #print('melhore resultado:')\n",
        "# #print(luche_result)"
      ],
      "metadata": {
        "colab": {
          "base_uri": "https://localhost:8080/"
        },
        "id": "QdMI4dGaS2KC",
        "outputId": "399b0e10-87a3-4ad7-d31d-8db80842f2a6"
      },
      "execution_count": null,
      "outputs": [
        {
          "output_type": "stream",
          "name": "stdout",
          "text": [
            "melhores hiperparâmetros:\n",
            "{'algorithm': 'SAMME.R', 'learning_rate': 0.1, 'n_estimators': 2000}\n"
          ]
        }
      ]
    },
    {
      "cell_type": "markdown",
      "source": [
        "#### Gradient Boosting"
      ],
      "metadata": {
        "id": "O3MkJsOvSlkg"
      }
    },
    {
      "cell_type": "code",
      "source": [
        "parametros_GB = {'loss': ['deviance', 'exponential'],'n_estimators' : [100,200,500],'max_features' : ['sqrt','log2'],'max_depth' : [3,10,50] }"
      ],
      "metadata": {
        "id": "DSTy4YXDTAPD"
      },
      "execution_count": null,
      "outputs": []
    },
    {
      "cell_type": "code",
      "source": [
        "griSearchGB = GridSearchCV(estimator=GradientBoostingClassifier(), param_grid=parametros_GB,cv=10)\n",
        "#griSearchGB.fit(X_data, Y_data)\n",
        "models.append(griSearchGB.fit(X_data_train, y_data_train))\n",
        "hiperparametros(griSearchGB)"
      ],
      "metadata": {
        "colab": {
          "base_uri": "https://localhost:8080/"
        },
        "id": "wsjN3DuqTAGX",
        "outputId": "5855ea8f-7e50-4d97-8dcb-60da3be87da9"
      },
      "execution_count": null,
      "outputs": [
        {
          "output_type": "stream",
          "name": "stdout",
          "text": [
            "melhores hiperparâmetros:\n",
            "{'loss': 'exponential', 'max_depth': 10, 'max_features': 'sqrt', 'n_estimators': 100}\n"
          ]
        }
      ]
    },
    {
      "cell_type": "markdown",
      "source": [
        "### SVM"
      ],
      "metadata": {
        "id": "WHOWFyaZCMHY"
      }
    },
    {
      "cell_type": "code",
      "source": [
        "parametrosSVM = {'tol': [0.001, 0.0001, 0.00001],\n",
        "              'C': [ 1.0, 1.5,2.0],\n",
        "              'kernel': ['linear', 'poly','sigmoid', 'rbf']}"
      ],
      "metadata": {
        "id": "5n3R6kdCCKYQ"
      },
      "execution_count": null,
      "outputs": []
    },
    {
      "cell_type": "code",
      "source": [
        "griSearchSVM = GridSearchCV(estimator=SVC(), param_grid=parametrosSVM,verbose=1,cv=10)\n",
        "#griSearchSVM.fit(X_data, Y_data)\n",
        "print('melhores hiperparâmetros:')\n",
        "models.append(griSearchSVM.fit(X_data_train, y_data_train))\n",
        "print(griSearchSVM.best_params_)"
      ],
      "metadata": {
        "colab": {
          "base_uri": "https://localhost:8080/"
        },
        "id": "5rF7EgXvCxw6",
        "outputId": "8c49d280-6424-4f35-bad0-c5690326ae96"
      },
      "execution_count": null,
      "outputs": [
        {
          "output_type": "stream",
          "name": "stdout",
          "text": [
            "melhores hiperparâmetros:\n",
            "Fitting 10 folds for each of 36 candidates, totalling 360 fits\n",
            "{'C': 2.0, 'kernel': 'rbf', 'tol': 0.001}\n"
          ]
        }
      ]
    },
    {
      "cell_type": "markdown",
      "source": [
        "### Redes Neuronais"
      ],
      "metadata": {
        "id": "wXQW60mjQWhl"
      }
    },
    {
      "cell_type": "code",
      "source": [
        "parametrosRN = {'activation': ['relu', 'logistic', 'tahn'],\n",
        "              'solver': ['adam','sgd'],\n",
        "              'batch_size': [10, 56],\n",
        "              }"
      ],
      "metadata": {
        "id": "blMqoQi5ODnW"
      },
      "execution_count": null,
      "outputs": []
    },
    {
      "cell_type": "code",
      "source": [
        "griSearchRN = GridSearchCV(estimator=MLPClassifier(), param_grid=parametrosRN,cv=10)\n",
        "#griSearchRN.fit(X_data, Y_data)\n",
        "models.append(griSearchRN.fit(X_data_train, y_data_train))"
      ],
      "metadata": {
        "id": "Vt1Sth-Bp4yE"
      },
      "execution_count": null,
      "outputs": []
    },
    {
      "cell_type": "markdown",
      "source": [
        "# Avaliação\n",
        "\n",
        "Nesta etapa vamos avaliar, o desempenho de cada modelo gerado na etapa anterior, a métrica principal que definimos para comparar os algoritmos é a accuarcy. \n",
        "\n",
        "Escolhemos a accuaracy como métrica, porque temos uma base de dados balanceada."
      ],
      "metadata": {
        "id": "KU3Kq2CLOEPw"
      }
    },
    {
      "cell_type": "markdown",
      "source": [
        "## Resultado de cada algoritmo"
      ],
      "metadata": {
        "id": "If-5XCKfJHmH"
      }
    },
    {
      "cell_type": "markdown",
      "source": [
        "### Naive Bayes\n",
        "\n",
        "O Naive Bayes têm poucos hiper parâmetros, por isso não chegamos a usar o gridSearch para este algoritmo.  "
      ],
      "metadata": {
        "id": "Zhpp0wISjbFy"
      }
    },
    {
      "cell_type": "code",
      "source": [
        "scoreM(models[0])"
      ],
      "metadata": {
        "id": "NemLv97BjaQk",
        "colab": {
          "base_uri": "https://localhost:8080/"
        },
        "outputId": "3fdc6312-48bd-452e-cca2-ca64078cca0a"
      },
      "execution_count": null,
      "outputs": [
        {
          "output_type": "stream",
          "name": "stdout",
          "text": [
            "GaussianNB()\n",
            "resultado completos\n",
            "              precision    recall  f1-score   support\n",
            "\n",
            "           0       0.80      0.90      0.85       143\n",
            "           1       0.86      0.73      0.79       120\n",
            "\n",
            "    accuracy                           0.83       263\n",
            "   macro avg       0.83      0.82      0.82       263\n",
            "weighted avg       0.83      0.83      0.82       263\n",
            "\n",
            " \n",
            "    acurácia com dados de treino: 0.8035487959442332\n",
            "   acurácia com dados de teste: 0.8250950570342205\n"
          ]
        }
      ]
    },
    {
      "cell_type": "markdown",
      "source": [
        "Obtivemos uma accuarcy no teste de 83%, a pior metrica nesse algoritimo foi o recall para a classe 1(concelho), isso quer dizer que um numero relativamente significativo de classes que eram do tipo um quem foram classificadas como zero."
      ],
      "metadata": {
        "id": "-zAPcbt6w9LZ"
      }
    },
    {
      "cell_type": "markdown",
      "source": [
        "### Árvore de decisão\n",
        "\n",
        "As Arvores de Decisão são uma das alternativas para a resolução de problemas de classificação.\n",
        "\n",
        "Nas duas tentivas obtivemos os mesmos resultados uma accuaracy de 95%.\n",
        "\n"
      ],
      "metadata": {
        "id": "24txPXXb92qN"
      }
    },
    {
      "cell_type": "code",
      "source": [
        "print('             -----------Sem Otimização--------------')\n",
        "scoreM(models[1])\n",
        "print('')\n",
        "print('             -----------com Otimização--------------')\n",
        "scoreM(models[7])\n"
      ],
      "metadata": {
        "colab": {
          "base_uri": "https://localhost:8080/"
        },
        "id": "5z1K2xzJ-Sc_",
        "outputId": "9862cc82-39a3-4322-a293-130f1dfa8a22"
      },
      "execution_count": null,
      "outputs": [
        {
          "output_type": "stream",
          "name": "stdout",
          "text": [
            "             -----------Sem Otimização--------------\n",
            "DecisionTreeClassifier(criterion='entropy')\n",
            "resultado completos\n",
            "              precision    recall  f1-score   support\n",
            "\n",
            "           0       0.96      0.95      0.96       143\n",
            "           1       0.94      0.96      0.95       120\n",
            "\n",
            "    accuracy                           0.95       263\n",
            "   macro avg       0.95      0.95      0.95       263\n",
            "weighted avg       0.95      0.95      0.95       263\n",
            "\n",
            " \n",
            "    acurácia com dados de treino: 1.0\n",
            "   acurácia com dados de teste: 0.9543726235741445\n",
            "\n",
            "             -----------com Otimização--------------\n",
            "GridSearchCV(cv=10, estimator=DecisionTreeClassifier(),\n",
            "             param_grid={'criterion': ['gini', 'entropy'],\n",
            "                         'min_samples_leaf': [1, 5, 10],\n",
            "                         'min_samples_split': [2, 5, 10],\n",
            "                         'splitter': ['best', 'random']})\n",
            "resultado completos\n",
            "              precision    recall  f1-score   support\n",
            "\n",
            "           0       0.96      0.95      0.96       143\n",
            "           1       0.94      0.96      0.95       120\n",
            "\n",
            "    accuracy                           0.95       263\n",
            "   macro avg       0.95      0.95      0.95       263\n",
            "weighted avg       0.95      0.95      0.95       263\n",
            "\n",
            " \n",
            "    acurácia com dados de treino: 1.0\n",
            "   acurácia com dados de teste: 0.9543726235741445\n"
          ]
        }
      ]
    },
    {
      "cell_type": "markdown",
      "source": [
        "### Random Forest\n",
        "\n",
        "Os resultados com o Random Forest, foram melhores com as configurações padrão, obtivemos uma accuacy de 97.3%. \n"
      ],
      "metadata": {
        "id": "x-Eed2mz-TA1"
      }
    },
    {
      "cell_type": "code",
      "source": [
        "print('             -----------Sem Otimização--------------')\n",
        "scoreM(models[2])\n",
        "print('')\n",
        "print('-----------com Otimização--------------')\n",
        "scoreM(models[8])"
      ],
      "metadata": {
        "colab": {
          "base_uri": "https://localhost:8080/"
        },
        "id": "TsjHlYfaAfZH",
        "outputId": "c4a7a537-9903-4766-e442-b2b047acd135"
      },
      "execution_count": null,
      "outputs": [
        {
          "output_type": "stream",
          "name": "stdout",
          "text": [
            "             -----------Sem Otimização--------------\n",
            "RandomForestClassifier()\n",
            "resultado completos\n",
            "              precision    recall  f1-score   support\n",
            "\n",
            "           0       0.98      0.97      0.98       143\n",
            "           1       0.97      0.97      0.97       120\n",
            "\n",
            "    accuracy                           0.97       263\n",
            "   macro avg       0.97      0.97      0.97       263\n",
            "weighted avg       0.97      0.97      0.97       263\n",
            "\n",
            " \n",
            "    acurácia com dados de treino: 1.0\n",
            "   acurácia com dados de teste: 0.973384030418251\n",
            "\n",
            "-----------com Otimização--------------\n",
            "GridSearchCV(cv=10, estimator=RandomForestClassifier(),\n",
            "             param_grid={'criterion': ['gini', 'entropy'],\n",
            "                         'max_depth': [None, 100, 200],\n",
            "                         'max_features': [0.5, 1.0],\n",
            "                         'n_estimators': [10, 20, 100]})\n",
            "resultado completos\n",
            "              precision    recall  f1-score   support\n",
            "\n",
            "           0       0.97      0.97      0.97       143\n",
            "           1       0.97      0.96      0.96       120\n",
            "\n",
            "    accuracy                           0.97       263\n",
            "   macro avg       0.97      0.97      0.97       263\n",
            "weighted avg       0.97      0.97      0.97       263\n",
            "\n",
            " \n",
            "    acurácia com dados de treino: 1.0\n",
            "   acurácia com dados de teste: 0.9657794676806084\n"
          ]
        }
      ]
    },
    {
      "cell_type": "markdown",
      "source": [
        "### AdaBoost\n",
        "\n",
        "Neste algoritimos tal como no anterior obtivemos um desempenho melhor com as configuração padrão, a accuaracy foi de 95.4%\n",
        "\n"
      ],
      "metadata": {
        "id": "6ylPbdPuAn4F"
      }
    },
    {
      "cell_type": "code",
      "source": [
        "print('             -----------Sem Otimização--------------')\n",
        "scoreM(models[3])\n",
        "print('')\n",
        "print('-----------com Otimização--------------')\n",
        "scoreM(models[9])"
      ],
      "metadata": {
        "colab": {
          "base_uri": "https://localhost:8080/"
        },
        "id": "2eDdakkeAryf",
        "outputId": "044a9bb7-f2f9-4020-94b7-2bf9aa0b17a7"
      },
      "execution_count": null,
      "outputs": [
        {
          "output_type": "stream",
          "name": "stdout",
          "text": [
            "             -----------Sem Otimização--------------\n",
            "AdaBoostClassifier()\n",
            "resultado completos\n",
            "              precision    recall  f1-score   support\n",
            "\n",
            "           0       0.94      0.98      0.96       143\n",
            "           1       0.97      0.93      0.95       120\n",
            "\n",
            "    accuracy                           0.95       263\n",
            "   macro avg       0.96      0.95      0.95       263\n",
            "weighted avg       0.96      0.95      0.95       263\n",
            "\n",
            " \n",
            "    acurácia com dados de treino: 0.9923954372623575\n",
            "   acurácia com dados de teste: 0.9543726235741445\n",
            "\n",
            "-----------com Otimização--------------\n",
            "GridSearchCV(cv=10, estimator=AdaBoostClassifier(),\n",
            "             param_grid={'algorithm': ['SAMME', 'SAMME.R'],\n",
            "                         'learning_rate': [0.001, 0.01, 0.1],\n",
            "                         'n_estimators': [500, 1000, 2000]})\n",
            "resultado completos\n",
            "              precision    recall  f1-score   support\n",
            "\n",
            "           0       0.94      0.97      0.96       143\n",
            "           1       0.97      0.93      0.94       120\n",
            "\n",
            "    accuracy                           0.95       263\n",
            "   macro avg       0.95      0.95      0.95       263\n",
            "weighted avg       0.95      0.95      0.95       263\n",
            "\n",
            " \n",
            "    acurácia com dados de treino: 1.0\n",
            "   acurácia com dados de teste: 0.9505703422053232\n"
          ]
        }
      ]
    },
    {
      "cell_type": "markdown",
      "source": [
        "### Gradient Boosting\n",
        "\n",
        "Com o modelo gerado por este algoritmo, e usando o GridSearchCV para selecionar os melhores hiper parâmetros, obtivemos um melhor resultado, ou seja, os hiper parâmetros selecionados causaram uma melhora no desempenho, a accuaracy foi de 96.9%."
      ],
      "metadata": {
        "id": "EHGB7IusBb-Q"
      }
    },
    {
      "cell_type": "code",
      "source": [
        "print('             -----------Sem Otimização--------------')\n",
        "scoreM(models[4])\n",
        "print('')\n",
        "print('-----------com Otimização--------------')\n",
        "scoreM(models[10])"
      ],
      "metadata": {
        "colab": {
          "base_uri": "https://localhost:8080/"
        },
        "id": "V8wxHioQBfCe",
        "outputId": "48667b47-d815-41d3-d076-058d22bc4ccc"
      },
      "execution_count": null,
      "outputs": [
        {
          "output_type": "stream",
          "name": "stdout",
          "text": [
            "             -----------Sem Otimização--------------\n",
            "GradientBoostingClassifier()\n",
            "resultado completos\n",
            "              precision    recall  f1-score   support\n",
            "\n",
            "           0       0.96      0.97      0.96       143\n",
            "           1       0.96      0.95      0.95       120\n",
            "\n",
            "    accuracy                           0.96       263\n",
            "   macro avg       0.96      0.96      0.96       263\n",
            "weighted avg       0.96      0.96      0.96       263\n",
            "\n",
            " \n",
            "    acurácia com dados de treino: 1.0\n",
            "   acurácia com dados de teste: 0.9581749049429658\n",
            "\n",
            "-----------com Otimização--------------\n",
            "GridSearchCV(cv=10, estimator=GradientBoostingClassifier(),\n",
            "             param_grid={'loss': ['deviance', 'exponential'],\n",
            "                         'max_depth': [3, 10, 50],\n",
            "                         'max_features': ['sqrt', 'log2'],\n",
            "                         'n_estimators': [100, 200, 500]})\n",
            "resultado completos\n",
            "              precision    recall  f1-score   support\n",
            "\n",
            "           0       0.97      0.97      0.97       143\n",
            "           1       0.97      0.97      0.97       120\n",
            "\n",
            "    accuracy                           0.97       263\n",
            "   macro avg       0.97      0.97      0.97       263\n",
            "weighted avg       0.97      0.97      0.97       263\n",
            "\n",
            " \n",
            "    acurácia com dados de treino: 1.0\n",
            "   acurácia com dados de teste: 0.9695817490494296\n"
          ]
        }
      ]
    },
    {
      "cell_type": "markdown",
      "source": [
        "### SVM\n",
        "\n",
        "Apesar do modelo SVM ser, em teoria, mais adequadas a problemas de classificação de datasets de grandes dimensões, verificamos um desempenho inferior,  em relação aos outros modelos testados.Observamos que para a classe 1, tivemos um numero relativamente elevado de falsos negativos, ou seja, valores que pertenciam a classe 0, mas foram classificado com pertencendo a classe 1. Essas métricas podem ser observada analisando o recall na classe 1 e o precision da classe 0.  \n",
        "\n",
        "Os hiper parâmetros causaram uma melhora no desempenho, mas os resultados ficaram abaixo dos obtidos pelos com ensambles(o SVM teve uma accuaracy de 87.4%)."
      ],
      "metadata": {
        "id": "hGlBVRrZBfrr"
      }
    },
    {
      "cell_type": "code",
      "source": [
        "print('             -----------Sem Otimização--------------')\n",
        "scoreM(models[5])\n",
        "print('')\n",
        "print('-----------com Otimização--------------')\n",
        "scoreM(models[11])"
      ],
      "metadata": {
        "colab": {
          "base_uri": "https://localhost:8080/"
        },
        "id": "nLB7jTcrBpD7",
        "outputId": "91e6edd4-293b-4709-9f2e-762f017f0afe"
      },
      "execution_count": null,
      "outputs": [
        {
          "output_type": "stream",
          "name": "stdout",
          "text": [
            "             -----------Sem Otimização--------------\n",
            "SVC()\n",
            "resultado completos\n",
            "              precision    recall  f1-score   support\n",
            "\n",
            "           0       0.80      0.97      0.88       143\n",
            "           1       0.95      0.72      0.82       120\n",
            "\n",
            "    accuracy                           0.85       263\n",
            "   macro avg       0.87      0.84      0.85       263\n",
            "weighted avg       0.87      0.85      0.85       263\n",
            "\n",
            " \n",
            "    acurácia com dados de treino: 0.7908745247148289\n",
            "   acurácia com dados de teste: 0.8517110266159695\n",
            "\n",
            "-----------com Otimização--------------\n",
            "GridSearchCV(cv=10, estimator=SVC(),\n",
            "             param_grid={'C': [1.0, 1.5, 2.0],\n",
            "                         'kernel': ['linear', 'poly', 'sigmoid', 'rbf'],\n",
            "                         'tol': [0.001, 0.0001, 1e-05]},\n",
            "             verbose=1)\n",
            "resultado completos\n",
            "              precision    recall  f1-score   support\n",
            "\n",
            "           0       0.83      0.97      0.89       143\n",
            "           1       0.95      0.77      0.85       120\n",
            "\n",
            "    accuracy                           0.87       263\n",
            "   macro avg       0.89      0.87      0.87       263\n",
            "weighted avg       0.88      0.87      0.87       263\n",
            "\n",
            " \n",
            "    acurácia com dados de treino: 0.8276299112801014\n",
            "   acurácia com dados de teste: 0.8745247148288974\n"
          ]
        }
      ]
    },
    {
      "cell_type": "markdown",
      "source": [
        "### Redes neuronais\n",
        "\n",
        "O melhor resultado foi obtido com as configurações padrão, a accuaracy foi de 94.3%."
      ],
      "metadata": {
        "id": "3Efh2rz8Brus"
      }
    },
    {
      "cell_type": "code",
      "source": [
        "print('             -----------Sem Otimização--------------')\n",
        "scoreM(models[6])\n",
        "print('')\n",
        "print('-----------com Otimização--------------')\n",
        "scoreM(models[12])"
      ],
      "metadata": {
        "colab": {
          "base_uri": "https://localhost:8080/"
        },
        "id": "mTrnjvokB3G6",
        "outputId": "5c1c2f83-7186-41d7-de99-9b811f56a1d1"
      },
      "execution_count": null,
      "outputs": [
        {
          "output_type": "stream",
          "name": "stdout",
          "text": [
            "             -----------Sem Otimização--------------\n",
            "MLPClassifier(max_iter=1500)\n",
            "resultado completos\n",
            "              precision    recall  f1-score   support\n",
            "\n",
            "           0       0.92      0.99      0.95       143\n",
            "           1       0.98      0.90      0.94       120\n",
            "\n",
            "    accuracy                           0.95       263\n",
            "   macro avg       0.95      0.94      0.95       263\n",
            "weighted avg       0.95      0.95      0.95       263\n",
            "\n",
            " \n",
            "    acurácia com dados de treino: 0.9366286438529785\n",
            "   acurácia com dados de teste: 0.9467680608365019\n",
            "\n",
            "-----------com Otimização--------------\n",
            "GridSearchCV(cv=10, estimator=MLPClassifier(),\n",
            "             param_grid={'activation': ['relu', 'logistic', 'tahn'],\n",
            "                         'batch_size': [10, 56], 'solver': ['adam', 'sgd']})\n",
            "resultado completos\n",
            "              precision    recall  f1-score   support\n",
            "\n",
            "           0       0.92      0.94      0.93       143\n",
            "           1       0.93      0.91      0.92       120\n",
            "\n",
            "    accuracy                           0.93       263\n",
            "   macro avg       0.93      0.93      0.93       263\n",
            "weighted avg       0.93      0.93      0.93       263\n",
            "\n",
            " \n",
            "    acurácia com dados de treino: 0.917617237008872\n",
            "   acurácia com dados de teste: 0.9277566539923955\n"
          ]
        }
      ]
    },
    {
      "cell_type": "code",
      "source": [
        "#see_models()"
      ],
      "metadata": {
        "id": "PkeqmqRFJNx1"
      },
      "execution_count": null,
      "outputs": []
    },
    {
      "cell_type": "markdown",
      "source": [
        "Dentre os algoritmos avaliados acabamos por obter o melhor desempenho com o Gradient Boosting Classifier, a accuracy obtida foi de 96.9%."
      ],
      "metadata": {
        "id": "7jk9xN22_FDU"
      }
    },
    {
      "cell_type": "markdown",
      "source": [
        "# Representação de conhecimento"
      ],
      "metadata": {
        "id": "t1xYFUwXJwVx"
      }
    },
    {
      "cell_type": "markdown",
      "source": [
        "\n",
        "A análise que se segue, consiste em pegar os modelos, com a configuração mais eficiente, e efetuar um cross-validation com 10 folds dentro de um ciclo com 50 iterações, onde em cada iteração vamos pegar o score medio de cada modelo.\n",
        "\n",
        " \n",
        "\n"
      ],
      "metadata": {
        "id": "xL-8KKmsuSZ3"
      }
    },
    {
      "cell_type": "code",
      "source": [
        "resultados_AR = []\n",
        "resultados_ADA = []\n",
        "resultados_RF = []\n",
        "resultados_GR = []\n",
        "resultados_RN = []\n",
        "resultados_SVM = []"
      ],
      "metadata": {
        "id": "Sey9ceJnuWhS"
      },
      "execution_count": null,
      "outputs": []
    },
    {
      "cell_type": "code",
      "source": [
        "for i in range(50):\n",
        "  print(i)\n",
        "  kfold = KFold(n_splits=10, shuffle=True, random_state=i)\n",
        "\n",
        "  AR = DecisionTreeClassifier(criterion='entropy', min_samples_leaf=10, min_samples_split=2, splitter='best')\n",
        "  scores = cross_val_score(AR, X_data, Y_data, cv = kfold)\n",
        "  resultados_AR.append(scores.mean())\n",
        "\n",
        "  random_forest = RandomForestClassifier(criterion= 'entropy', max_depth= 100, max_features= 0.5, n_estimators= 10)\n",
        "  scores = cross_val_score(random_forest, X_data, Y_data, cv = kfold)\n",
        "  resultados_RF.append(scores.mean())\n",
        "\n",
        "  Ada=AdaBoostClassifier(algorithm= 'SAMME.R', learning_rate= 0.1, n_estimators= 2000)\n",
        "  scores = cross_val_score(Ada, X_data, Y_data, cv = kfold)\n",
        "  resultados_ADA.append(scores.mean())\n",
        "\n",
        "  GR = GradientBoostingClassifier(loss= 'exponential', max_depth= 3, max_features = 'log2', n_estimators= 100)\n",
        "  scores = cross_val_score(GR, X_data, Y_data, cv = kfold)\n",
        "  resultados_GR.append(scores.mean())\n",
        "  print(scores)\n",
        "\n",
        "  svm = SVC(kernel = 'linear', C = 2.0,tol= 0.001)\n",
        "  scores = cross_val_score(svm,  X_data, Y_data, cv = kfold)\n",
        "  resultados_SVM.append(scores.mean())\n",
        "\n",
        "  rede_neuronal = MLPClassifier(activation = 'relu', batch_size = 10, solver = 'adam')\n",
        "  #rede_neuronal = MLPClassifier()\n",
        "  scores = cross_val_score(rede_neuronal, X_data, Y_data, cv = kfold)\n",
        "  resultados_RN.append(scores.mean())"
      ],
      "metadata": {
        "id": "OX6P4UiFvtFM"
      },
      "execution_count": null,
      "outputs": []
    },
    {
      "cell_type": "code",
      "source": [
        "len(resultados_AR), len(resultados_RF),len(resultados_ADA),len(resultados_GR),len(resultados_SVM), len(resultados_RN)"
      ],
      "metadata": {
        "colab": {
          "base_uri": "https://localhost:8080/"
        },
        "id": "ERWajQPXAdNh",
        "outputId": "8b069312-e1ae-44d2-f4ee-6ac84e2a6f56"
      },
      "execution_count": null,
      "outputs": [
        {
          "output_type": "execute_result",
          "data": {
            "text/plain": [
              "(50, 50, 50, 50, 50, 50)"
            ]
          },
          "metadata": {},
          "execution_count": 214
        }
      ]
    },
    {
      "cell_type": "code",
      "source": [
        "resultadosCV = pd.DataFrame({'Arvore': resultados_AR, \n",
        "                          'Random forest': resultados_RF,\n",
        "                          'AdaBoost Classifier': resultados_ADA, \n",
        "                          'Gradient Boosting': resultados_GR,\n",
        "                          'SVM': resultados_SVM, \n",
        "                          'Rede neural': resultados_RN})"
      ],
      "metadata": {
        "id": "y9rMQkOMtqXC"
      },
      "execution_count": null,
      "outputs": []
    },
    {
      "cell_type": "code",
      "source": [
        "resultadosCV.describe()"
      ],
      "metadata": {
        "colab": {
          "base_uri": "https://localhost:8080/",
          "height": 300
        },
        "id": "9lAyhjLcJ6i1",
        "outputId": "2e3aa6e4-a2b5-4b93-d8e7-a4ff0ccdd5a7"
      },
      "execution_count": null,
      "outputs": [
        {
          "output_type": "execute_result",
          "data": {
            "text/plain": [
              "          Arvore  Random forest  AdaBoost Classifier  Gradient Boosting  \\\n",
              "count  50.000000      50.000000            50.000000          50.000000   \n",
              "mean    0.960343       0.979165             0.975916           0.978977   \n",
              "std     0.004097       0.002622             0.001945           0.001937   \n",
              "min     0.949677       0.974322             0.972417           0.975274   \n",
              "25%     0.958178       0.977188             0.974333           0.977442   \n",
              "50%     0.960090       0.979088             0.975764           0.979088   \n",
              "75%     0.962920       0.980977             0.977206           0.980054   \n",
              "max     0.968643       0.985741             0.980027           0.982884   \n",
              "\n",
              "             SVM  Rede neural  \n",
              "count  50.000000    50.000000  \n",
              "mean    0.620741     0.903727  \n",
              "std     0.004728     0.005346  \n",
              "min     0.611123     0.890665  \n",
              "25%     0.618742     0.900182  \n",
              "50%     0.619816     0.903989  \n",
              "75%     0.624259     0.907785  \n",
              "max     0.634106     0.913540  "
            ],
            "text/html": [
              "\n",
              "  <div id=\"df-640abcab-6915-4e11-8e5d-65fc98b3e8b3\">\n",
              "    <div class=\"colab-df-container\">\n",
              "      <div>\n",
              "<style scoped>\n",
              "    .dataframe tbody tr th:only-of-type {\n",
              "        vertical-align: middle;\n",
              "    }\n",
              "\n",
              "    .dataframe tbody tr th {\n",
              "        vertical-align: top;\n",
              "    }\n",
              "\n",
              "    .dataframe thead th {\n",
              "        text-align: right;\n",
              "    }\n",
              "</style>\n",
              "<table border=\"1\" class=\"dataframe\">\n",
              "  <thead>\n",
              "    <tr style=\"text-align: right;\">\n",
              "      <th></th>\n",
              "      <th>Arvore</th>\n",
              "      <th>Random forest</th>\n",
              "      <th>AdaBoost Classifier</th>\n",
              "      <th>Gradient Boosting</th>\n",
              "      <th>SVM</th>\n",
              "      <th>Rede neural</th>\n",
              "    </tr>\n",
              "  </thead>\n",
              "  <tbody>\n",
              "    <tr>\n",
              "      <th>count</th>\n",
              "      <td>50.000000</td>\n",
              "      <td>50.000000</td>\n",
              "      <td>50.000000</td>\n",
              "      <td>50.000000</td>\n",
              "      <td>50.000000</td>\n",
              "      <td>50.000000</td>\n",
              "    </tr>\n",
              "    <tr>\n",
              "      <th>mean</th>\n",
              "      <td>0.960343</td>\n",
              "      <td>0.979165</td>\n",
              "      <td>0.975916</td>\n",
              "      <td>0.978977</td>\n",
              "      <td>0.620741</td>\n",
              "      <td>0.903727</td>\n",
              "    </tr>\n",
              "    <tr>\n",
              "      <th>std</th>\n",
              "      <td>0.004097</td>\n",
              "      <td>0.002622</td>\n",
              "      <td>0.001945</td>\n",
              "      <td>0.001937</td>\n",
              "      <td>0.004728</td>\n",
              "      <td>0.005346</td>\n",
              "    </tr>\n",
              "    <tr>\n",
              "      <th>min</th>\n",
              "      <td>0.949677</td>\n",
              "      <td>0.974322</td>\n",
              "      <td>0.972417</td>\n",
              "      <td>0.975274</td>\n",
              "      <td>0.611123</td>\n",
              "      <td>0.890665</td>\n",
              "    </tr>\n",
              "    <tr>\n",
              "      <th>25%</th>\n",
              "      <td>0.958178</td>\n",
              "      <td>0.977188</td>\n",
              "      <td>0.974333</td>\n",
              "      <td>0.977442</td>\n",
              "      <td>0.618742</td>\n",
              "      <td>0.900182</td>\n",
              "    </tr>\n",
              "    <tr>\n",
              "      <th>50%</th>\n",
              "      <td>0.960090</td>\n",
              "      <td>0.979088</td>\n",
              "      <td>0.975764</td>\n",
              "      <td>0.979088</td>\n",
              "      <td>0.619816</td>\n",
              "      <td>0.903989</td>\n",
              "    </tr>\n",
              "    <tr>\n",
              "      <th>75%</th>\n",
              "      <td>0.962920</td>\n",
              "      <td>0.980977</td>\n",
              "      <td>0.977206</td>\n",
              "      <td>0.980054</td>\n",
              "      <td>0.624259</td>\n",
              "      <td>0.907785</td>\n",
              "    </tr>\n",
              "    <tr>\n",
              "      <th>max</th>\n",
              "      <td>0.968643</td>\n",
              "      <td>0.985741</td>\n",
              "      <td>0.980027</td>\n",
              "      <td>0.982884</td>\n",
              "      <td>0.634106</td>\n",
              "      <td>0.913540</td>\n",
              "    </tr>\n",
              "  </tbody>\n",
              "</table>\n",
              "</div>\n",
              "      <button class=\"colab-df-convert\" onclick=\"convertToInteractive('df-640abcab-6915-4e11-8e5d-65fc98b3e8b3')\"\n",
              "              title=\"Convert this dataframe to an interactive table.\"\n",
              "              style=\"display:none;\">\n",
              "        \n",
              "  <svg xmlns=\"http://www.w3.org/2000/svg\" height=\"24px\"viewBox=\"0 0 24 24\"\n",
              "       width=\"24px\">\n",
              "    <path d=\"M0 0h24v24H0V0z\" fill=\"none\"/>\n",
              "    <path d=\"M18.56 5.44l.94 2.06.94-2.06 2.06-.94-2.06-.94-.94-2.06-.94 2.06-2.06.94zm-11 1L8.5 8.5l.94-2.06 2.06-.94-2.06-.94L8.5 2.5l-.94 2.06-2.06.94zm10 10l.94 2.06.94-2.06 2.06-.94-2.06-.94-.94-2.06-.94 2.06-2.06.94z\"/><path d=\"M17.41 7.96l-1.37-1.37c-.4-.4-.92-.59-1.43-.59-.52 0-1.04.2-1.43.59L10.3 9.45l-7.72 7.72c-.78.78-.78 2.05 0 2.83L4 21.41c.39.39.9.59 1.41.59.51 0 1.02-.2 1.41-.59l7.78-7.78 2.81-2.81c.8-.78.8-2.07 0-2.86zM5.41 20L4 18.59l7.72-7.72 1.47 1.35L5.41 20z\"/>\n",
              "  </svg>\n",
              "      </button>\n",
              "      \n",
              "  <style>\n",
              "    .colab-df-container {\n",
              "      display:flex;\n",
              "      flex-wrap:wrap;\n",
              "      gap: 12px;\n",
              "    }\n",
              "\n",
              "    .colab-df-convert {\n",
              "      background-color: #E8F0FE;\n",
              "      border: none;\n",
              "      border-radius: 50%;\n",
              "      cursor: pointer;\n",
              "      display: none;\n",
              "      fill: #1967D2;\n",
              "      height: 32px;\n",
              "      padding: 0 0 0 0;\n",
              "      width: 32px;\n",
              "    }\n",
              "\n",
              "    .colab-df-convert:hover {\n",
              "      background-color: #E2EBFA;\n",
              "      box-shadow: 0px 1px 2px rgba(60, 64, 67, 0.3), 0px 1px 3px 1px rgba(60, 64, 67, 0.15);\n",
              "      fill: #174EA6;\n",
              "    }\n",
              "\n",
              "    [theme=dark] .colab-df-convert {\n",
              "      background-color: #3B4455;\n",
              "      fill: #D2E3FC;\n",
              "    }\n",
              "\n",
              "    [theme=dark] .colab-df-convert:hover {\n",
              "      background-color: #434B5C;\n",
              "      box-shadow: 0px 1px 3px 1px rgba(0, 0, 0, 0.15);\n",
              "      filter: drop-shadow(0px 1px 2px rgba(0, 0, 0, 0.3));\n",
              "      fill: #FFFFFF;\n",
              "    }\n",
              "  </style>\n",
              "\n",
              "      <script>\n",
              "        const buttonEl =\n",
              "          document.querySelector('#df-640abcab-6915-4e11-8e5d-65fc98b3e8b3 button.colab-df-convert');\n",
              "        buttonEl.style.display =\n",
              "          google.colab.kernel.accessAllowed ? 'block' : 'none';\n",
              "\n",
              "        async function convertToInteractive(key) {\n",
              "          const element = document.querySelector('#df-640abcab-6915-4e11-8e5d-65fc98b3e8b3');\n",
              "          const dataTable =\n",
              "            await google.colab.kernel.invokeFunction('convertToInteractive',\n",
              "                                                     [key], {});\n",
              "          if (!dataTable) return;\n",
              "\n",
              "          const docLinkHtml = 'Like what you see? Visit the ' +\n",
              "            '<a target=\"_blank\" href=https://colab.research.google.com/notebooks/data_table.ipynb>data table notebook</a>'\n",
              "            + ' to learn more about interactive tables.';\n",
              "          element.innerHTML = '';\n",
              "          dataTable['output_type'] = 'display_data';\n",
              "          await google.colab.output.renderOutput(dataTable, element);\n",
              "          const docLink = document.createElement('div');\n",
              "          docLink.innerHTML = docLinkHtml;\n",
              "          element.appendChild(docLink);\n",
              "        }\n",
              "      </script>\n",
              "    </div>\n",
              "  </div>\n",
              "  "
            ]
          },
          "metadata": {},
          "execution_count": 216
        }
      ]
    },
    {
      "cell_type": "markdown",
      "source": [
        "De modo geral podemos afirmar que com exceção do Naive Bayes e SVM,  todos os modelos testados apresentam um excelente desempenho para o nosso conjunto de dados. \n",
        "\n",
        "Apesar do modelo Random Forest, ter chegado atingir a accuaracy mais elevada durante\n",
        "o cross-validation, concluimos que o modelo mais eficiente para o nosso conjunto de dados é o Gradient Boosting.Chegamos a essa conclusão, tendo como base a media e o desvio padrão obtidos. Podemos observar que o Gradient Boosting foi o algoritmo com menor desvio padrão e com media da accuaracy mais elevada. \n"
      ],
      "metadata": {
        "id": "2WpPCDckD--7"
      }
    }
  ]
}